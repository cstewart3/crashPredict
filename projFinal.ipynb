{
 "cells": [
  {
   "cell_type": "code",
   "execution_count": 5,
   "metadata": {},
   "outputs": [],
   "source": [
    "#CS391Project\n",
    "#Charlie, Ben, Jenna"
   ]
  },
  {
   "cell_type": "code",
   "execution_count": 6,
   "metadata": {},
   "outputs": [],
   "source": [
    "#Requirments: CrashMaryland.csv is needed\n",
    "#             Woodbine_2017_Crash.csv is needed\n",
    "\n",
    "#Link to csv's: https://github.com/CS-391-Traffic/cs391traffic\n",
    "\n",
    "#Takes about 1 min to run with grid search commented out (currently commented out)\n",
    "#5 - 10 mins with grid search "
   ]
  },
  {
   "cell_type": "code",
   "execution_count": 7,
   "metadata": {},
   "outputs": [
    {
     "data": {
      "text/plain": [
       "'Description: Our data science project looks into the effects of weather on traffic flow and \\nnumber of accidents. This project combines a weather dataset from NEWA and traffic dataset from \\nMontgomery County Maryland to create a model to see the effects of weather on traffic flow and number of \\naccidents over the duration of one year. The goals of this project was to see if our dataset supported the \\nstatistics stated by the US Department of Transportation and claims that the weather causes accidents made by \\npopular media.\\n\\n\\nSummary: Our particular dataset showed no support for the popular claims and US statistics. However, we \\ndid find that the time of day affects the number of accidents and traffic flow. Overall the \\naccuracy of our best model was around 73%. \\n\\n'"
      ]
     },
     "execution_count": 7,
     "metadata": {},
     "output_type": "execute_result"
    }
   ],
   "source": [
    "'''Description: Our data science project looks into the effects of weather on traffic flow and \n",
    "number of accidents. This project combines a weather dataset from NEWA and traffic dataset from \n",
    "Montgomery County Maryland to create a model to see the effects of weather on traffic flow and number of \n",
    "accidents over the duration of one year. The goals of this project was to see if our dataset supported the \n",
    "statistics stated by the US Department of Transportation and claims that the weather causes accidents made by \n",
    "popular media.\n",
    "\n",
    "\n",
    "Summary: Our particular dataset showed no support for the popular claims and US statistics. However, we \n",
    "did find that the time of day affects the number of accidents and traffic flow. Overall the \n",
    "accuracy of our best model was around 73%. \n",
    "\n",
    "'''"
   ]
  },
  {
   "cell_type": "code",
   "execution_count": 8,
   "metadata": {},
   "outputs": [],
   "source": [
    "import pandas as pd\n",
    "import datetime as dt\n",
    "from sklearn.model_selection import train_test_split\n",
    "from sklearn.ensemble import RandomForestClassifier\n",
    "from sklearn.metrics import accuracy_score\n",
    "from sklearn import metrics \n",
    "from sklearn.linear_model import LogisticRegression\n",
    "from sklearn import model_selection\n",
    "from sklearn.model_selection import cross_val_score\n",
    "from sklearn.metrics import classification_report\n",
    "from sklearn.metrics import confusion_matrix\n",
    "from sklearn.neural_network import MLPClassifier\n",
    "from sklearn.preprocessing import StandardScaler\n",
    "import statsmodels.api as sm\n",
    "from sklearn.naive_bayes import BernoulliNB\n",
    "from sklearn.naive_bayes import GaussianNB\n",
    "import seaborn as sns\n",
    "from sklearn.linear_model import LinearRegression\n",
    "import matplotlib.pyplot as plt \n",
    "from sklearn.model_selection import GridSearchCV"
   ]
  },
  {
   "cell_type": "code",
   "execution_count": 9,
   "metadata": {},
   "outputs": [],
   "source": [
    "#Reading in CSV Files\n",
    "df = pd.read_csv('CrashMaryland.csv')\n",
    "dfW = pd.read_csv('Woodbine_2017_Crash.csv')"
   ]
  },
  {
   "cell_type": "code",
   "execution_count": 10,
   "metadata": {},
   "outputs": [],
   "source": [
    "#Setting cut-off dates for dataframe\n",
    "date2017 = dt.datetime(2017, 1, 1, 0,0,0)\n",
    "date2018 = dt.datetime(2017, 12, 31, 0,0,0)"
   ]
  },
  {
   "cell_type": "code",
   "execution_count": 11,
   "metadata": {},
   "outputs": [
    {
     "name": "stderr",
     "output_type": "stream",
     "text": [
      "C:\\Users\\Charlie\\Anaconda3\\lib\\site-packages\\pandas\\core\\indexing.py:190: SettingWithCopyWarning: \n",
      "A value is trying to be set on a copy of a slice from a DataFrame\n",
      "\n",
      "See the caveats in the documentation: http://pandas.pydata.org/pandas-docs/stable/indexing.html#indexing-view-versus-copy\n",
      "  self._setitem_with_indexer(indexer, value)\n"
     ]
    }
   ],
   "source": [
    "#start of data preprocessing\n",
    "df['date'] = pd.to_datetime(df['Crash Date/Time'])\n",
    "\n",
    "dfW['Date/Time'] = dfW['Date/Time'].map(lambda x: str(x)[:-3]) \n",
    "dfW['date'] = pd.to_datetime(dfW['Date/Time'])\n",
    "\n",
    "for i in range(len(df['date'])):\n",
    "    df['date'].loc[i]= df['date'].loc[i].replace(minute=0)"
   ]
  },
  {
   "cell_type": "code",
   "execution_count": 12,
   "metadata": {},
   "outputs": [],
   "source": [
    "#creating dataframe with dates only from 2017\n",
    "df201718 = df.loc[df['date'] >= date2017]\n",
    "mask = (df201718['date'] >= date2017) & (df201718['date'] <= date2018)\n",
    "df2017 = df201718.loc[mask] "
   ]
  },
  {
   "cell_type": "code",
   "execution_count": 13,
   "metadata": {},
   "outputs": [
    {
     "name": "stderr",
     "output_type": "stream",
     "text": [
      "C:\\Users\\Charlie\\Anaconda3\\lib\\site-packages\\ipykernel_launcher.py:2: SettingWithCopyWarning: \n",
      "A value is trying to be set on a copy of a slice from a DataFrame.\n",
      "Try using .loc[row_indexer,col_indexer] = value instead\n",
      "\n",
      "See the caveats in the documentation: http://pandas.pydata.org/pandas-docs/stable/indexing.html#indexing-view-versus-copy\n",
      "  \n",
      "C:\\Users\\Charlie\\Anaconda3\\lib\\site-packages\\ipykernel_launcher.py:3: SettingWithCopyWarning: \n",
      "A value is trying to be set on a copy of a slice from a DataFrame.\n",
      "Try using .loc[row_indexer,col_indexer] = value instead\n",
      "\n",
      "See the caveats in the documentation: http://pandas.pydata.org/pandas-docs/stable/indexing.html#indexing-view-versus-copy\n",
      "  This is separate from the ipykernel package so we can avoid doing imports until\n",
      "C:\\Users\\Charlie\\Anaconda3\\lib\\site-packages\\ipykernel_launcher.py:5: SettingWithCopyWarning: \n",
      "A value is trying to be set on a copy of a slice from a DataFrame.\n",
      "Try using .loc[row_indexer,col_indexer] = value instead\n",
      "\n",
      "See the caveats in the documentation: http://pandas.pydata.org/pandas-docs/stable/indexing.html#indexing-view-versus-copy\n",
      "  \"\"\"\n",
      "C:\\Users\\Charlie\\Anaconda3\\lib\\site-packages\\ipykernel_launcher.py:6: SettingWithCopyWarning: \n",
      "A value is trying to be set on a copy of a slice from a DataFrame.\n",
      "Try using .loc[row_indexer,col_indexer] = value instead\n",
      "\n",
      "See the caveats in the documentation: http://pandas.pydata.org/pandas-docs/stable/indexing.html#indexing-view-versus-copy\n",
      "  \n",
      "C:\\Users\\Charlie\\Anaconda3\\lib\\site-packages\\ipykernel_launcher.py:8: SettingWithCopyWarning: \n",
      "A value is trying to be set on a copy of a slice from a DataFrame.\n",
      "Try using .loc[row_indexer,col_indexer] = value instead\n",
      "\n",
      "See the caveats in the documentation: http://pandas.pydata.org/pandas-docs/stable/indexing.html#indexing-view-versus-copy\n",
      "  \n",
      "C:\\Users\\Charlie\\Anaconda3\\lib\\site-packages\\ipykernel_launcher.py:9: SettingWithCopyWarning: \n",
      "A value is trying to be set on a copy of a slice from a DataFrame.\n",
      "Try using .loc[row_indexer,col_indexer] = value instead\n",
      "\n",
      "See the caveats in the documentation: http://pandas.pydata.org/pandas-docs/stable/indexing.html#indexing-view-versus-copy\n",
      "  if __name__ == '__main__':\n"
     ]
    }
   ],
   "source": [
    "#Converting some useful catagorical features\n",
    "df2017['Weather'] = df2017['Weather'].astype('category')  \n",
    "df2017['weatherCat'] = df2017['Weather'].cat.codes\n",
    "\n",
    "df2017['Light'] = df2017['Light'].astype('category')  \n",
    "df2017['lightCat'] = df2017['Light'].cat.codes\n",
    "\n",
    "df2017['Surface Condition'] = df2017['Surface Condition'].astype('category')  \n",
    "df2017['surfaceConditionCat'] = df2017['Surface Condition'].cat.codes"
   ]
  },
  {
   "cell_type": "code",
   "execution_count": 14,
   "metadata": {},
   "outputs": [],
   "source": [
    "#Merging weather to 2017 crash data\n",
    "df2017W= pd.merge(df2017, dfW, on='date')"
   ]
  },
  {
   "cell_type": "code",
   "execution_count": 15,
   "metadata": {},
   "outputs": [],
   "source": [
    "#Dataframe with number of crashes at certain hour of day\n",
    "crashNum = df2017W['date'].value_counts().to_frame()\n",
    "dfCW = dfW\n",
    "dfCW.set_index('date', inplace = True)"
   ]
  },
  {
   "cell_type": "code",
   "execution_count": 16,
   "metadata": {},
   "outputs": [],
   "source": [
    "#Joining number of crashes with weather table\n",
    "dfCW = dfCW.join(crashNum, how = 'outer')\n",
    "dfCW.fillna(0, inplace = True)"
   ]
  },
  {
   "cell_type": "code",
   "execution_count": 17,
   "metadata": {},
   "outputs": [],
   "source": [
    "#creating column to show if a crash occured at a certain time\n",
    "dfCW['crashOccur'] = dfCW['date'] != 0\n",
    "dfCW.replace({True: 1, False: 0}, inplace=True)\n",
    "\n",
    "dfCW['hours'] = dfCW.index.hour\n",
    "dfCW.drop('Date/Time', axis = 1, inplace = True)\n",
    "\n",
    "dfCW.to_csv('crashWeather.csv')"
   ]
  },
  {
   "cell_type": "code",
   "execution_count": 18,
   "metadata": {},
   "outputs": [
    {
     "name": "stdout",
     "output_type": "stream",
     "text": [
      "Done with pre-processing\n"
     ]
    }
   ],
   "source": [
    "print(\"Done with pre-processing\")\n",
    "#Start pf EDA"
   ]
  },
  {
   "cell_type": "code",
   "execution_count": 19,
   "metadata": {},
   "outputs": [
    {
     "data": {
      "text/html": [
       "<div>\n",
       "<style scoped>\n",
       "    .dataframe tbody tr th:only-of-type {\n",
       "        vertical-align: middle;\n",
       "    }\n",
       "\n",
       "    .dataframe tbody tr th {\n",
       "        vertical-align: top;\n",
       "    }\n",
       "\n",
       "    .dataframe thead th {\n",
       "        text-align: right;\n",
       "    }\n",
       "</style>\n",
       "<table border=\"1\" class=\"dataframe\">\n",
       "  <thead>\n",
       "    <tr style=\"text-align: right;\">\n",
       "      <th></th>\n",
       "      <th>Air Temp (℉)</th>\n",
       "      <th>Precip (inches)</th>\n",
       "      <th>Leaf Wetness (minutes)</th>\n",
       "      <th>RH (%)</th>\n",
       "      <th>Wind Spd (mph)</th>\n",
       "      <th>Wind Dir (degrees)</th>\n",
       "      <th>date</th>\n",
       "      <th>crashOccur</th>\n",
       "      <th>hours</th>\n",
       "    </tr>\n",
       "  </thead>\n",
       "  <tbody>\n",
       "    <tr>\n",
       "      <th>count</th>\n",
       "      <td>8760.000000</td>\n",
       "      <td>8760.000000</td>\n",
       "      <td>8760.000000</td>\n",
       "      <td>8760.000000</td>\n",
       "      <td>8760.000000</td>\n",
       "      <td>8760.000000</td>\n",
       "      <td>8760.000000</td>\n",
       "      <td>8760.000000</td>\n",
       "      <td>8760.000000</td>\n",
       "    </tr>\n",
       "    <tr>\n",
       "      <th>mean</th>\n",
       "      <td>54.287032</td>\n",
       "      <td>0.003929</td>\n",
       "      <td>7.033562</td>\n",
       "      <td>65.916210</td>\n",
       "      <td>2.920342</td>\n",
       "      <td>221.289498</td>\n",
       "      <td>1.350114</td>\n",
       "      <td>0.650228</td>\n",
       "      <td>11.499886</td>\n",
       "    </tr>\n",
       "    <tr>\n",
       "      <th>std</th>\n",
       "      <td>17.537934</td>\n",
       "      <td>0.030234</td>\n",
       "      <td>18.578315</td>\n",
       "      <td>26.140309</td>\n",
       "      <td>2.727719</td>\n",
       "      <td>84.569478</td>\n",
       "      <td>1.453908</td>\n",
       "      <td>0.476925</td>\n",
       "      <td>6.922747</td>\n",
       "    </tr>\n",
       "    <tr>\n",
       "      <th>min</th>\n",
       "      <td>6.900000</td>\n",
       "      <td>0.000000</td>\n",
       "      <td>0.000000</td>\n",
       "      <td>0.000000</td>\n",
       "      <td>0.000000</td>\n",
       "      <td>-1.000000</td>\n",
       "      <td>0.000000</td>\n",
       "      <td>0.000000</td>\n",
       "      <td>0.000000</td>\n",
       "    </tr>\n",
       "    <tr>\n",
       "      <th>25%</th>\n",
       "      <td>41.100000</td>\n",
       "      <td>0.000000</td>\n",
       "      <td>0.000000</td>\n",
       "      <td>51.000000</td>\n",
       "      <td>0.800000</td>\n",
       "      <td>145.000000</td>\n",
       "      <td>0.000000</td>\n",
       "      <td>0.000000</td>\n",
       "      <td>5.750000</td>\n",
       "    </tr>\n",
       "    <tr>\n",
       "      <th>50%</th>\n",
       "      <td>55.800000</td>\n",
       "      <td>0.000000</td>\n",
       "      <td>0.000000</td>\n",
       "      <td>69.000000</td>\n",
       "      <td>2.200000</td>\n",
       "      <td>246.000000</td>\n",
       "      <td>1.000000</td>\n",
       "      <td>1.000000</td>\n",
       "      <td>11.500000</td>\n",
       "    </tr>\n",
       "    <tr>\n",
       "      <th>75%</th>\n",
       "      <td>68.100000</td>\n",
       "      <td>0.000000</td>\n",
       "      <td>0.000000</td>\n",
       "      <td>87.000000</td>\n",
       "      <td>4.200000</td>\n",
       "      <td>288.000000</td>\n",
       "      <td>2.000000</td>\n",
       "      <td>1.000000</td>\n",
       "      <td>17.250000</td>\n",
       "    </tr>\n",
       "    <tr>\n",
       "      <th>max</th>\n",
       "      <td>95.100000</td>\n",
       "      <td>1.110000</td>\n",
       "      <td>60.000000</td>\n",
       "      <td>255.000000</td>\n",
       "      <td>19.600000</td>\n",
       "      <td>360.000000</td>\n",
       "      <td>13.000000</td>\n",
       "      <td>1.000000</td>\n",
       "      <td>23.000000</td>\n",
       "    </tr>\n",
       "  </tbody>\n",
       "</table>\n",
       "</div>"
      ],
      "text/plain": [
       "       Air Temp (℉)  Precip (inches)  Leaf Wetness (minutes)       RH (%)  \\\n",
       "count   8760.000000      8760.000000             8760.000000  8760.000000   \n",
       "mean      54.287032         0.003929                7.033562    65.916210   \n",
       "std       17.537934         0.030234               18.578315    26.140309   \n",
       "min        6.900000         0.000000                0.000000     0.000000   \n",
       "25%       41.100000         0.000000                0.000000    51.000000   \n",
       "50%       55.800000         0.000000                0.000000    69.000000   \n",
       "75%       68.100000         0.000000                0.000000    87.000000   \n",
       "max       95.100000         1.110000               60.000000   255.000000   \n",
       "\n",
       "       Wind Spd (mph)  Wind Dir (degrees)         date   crashOccur  \\\n",
       "count     8760.000000         8760.000000  8760.000000  8760.000000   \n",
       "mean         2.920342          221.289498     1.350114     0.650228   \n",
       "std          2.727719           84.569478     1.453908     0.476925   \n",
       "min          0.000000           -1.000000     0.000000     0.000000   \n",
       "25%          0.800000          145.000000     0.000000     0.000000   \n",
       "50%          2.200000          246.000000     1.000000     1.000000   \n",
       "75%          4.200000          288.000000     2.000000     1.000000   \n",
       "max         19.600000          360.000000    13.000000     1.000000   \n",
       "\n",
       "             hours  \n",
       "count  8760.000000  \n",
       "mean     11.499886  \n",
       "std       6.922747  \n",
       "min       0.000000  \n",
       "25%       5.750000  \n",
       "50%      11.500000  \n",
       "75%      17.250000  \n",
       "max      23.000000  "
      ]
     },
     "execution_count": 19,
     "metadata": {},
     "output_type": "execute_result"
    }
   ],
   "source": [
    "dfCW.describe()"
   ]
  },
  {
   "cell_type": "code",
   "execution_count": 20,
   "metadata": {},
   "outputs": [],
   "source": [
    "df2 = pd.read_csv(\"CrashMaryland.csv\")"
   ]
  },
  {
   "cell_type": "code",
   "execution_count": 21,
   "metadata": {},
   "outputs": [
    {
     "data": {
      "text/plain": [
       "Maryland (State)        17859\n",
       "County                  15059\n",
       "Municipality             2481\n",
       "US (State)               1668\n",
       "Interstate (State)        790\n",
       "Other Public Roadway      327\n",
       "Government                229\n",
       "Ramp                      178\n",
       "Service Road               18\n",
       "Unknown                     5\n",
       "Name: Route Type, dtype: int64"
      ]
     },
     "execution_count": 21,
     "metadata": {},
     "output_type": "execute_result"
    }
   ],
   "source": [
    "#Next few lines explore some of the value counts of features in crash data\n",
    "df2['Route Type'].value_counts()"
   ]
  },
  {
   "cell_type": "code",
   "execution_count": 22,
   "metadata": {},
   "outputs": [
    {
     "data": {
      "text/plain": [
       "GEORGIA AVE                         2473\n",
       "NEW HAMPSHIRE AVE                   1403\n",
       "FREDERICK RD                        1291\n",
       "ROCKVILLE PIKE                      1078\n",
       "CONNECTICUT AVE                      933\n",
       "VEIRS MILL RD                        884\n",
       "COLUMBIA PIKE                        841\n",
       "RANDOLPH RD                          791\n",
       "COLESVILLE RD                        748\n",
       "SHADY GROVE RD                       710\n",
       "RIVER RD                             578\n",
       "UNIVERSITY BLVD W                    556\n",
       "UNIVERSITY BLVD E                    531\n",
       "OLD GEORGETOWN RD                    527\n",
       "NORBECK RD                           467\n",
       "RIDGE RD                             460\n",
       "GERMANTOWN RD                        436\n",
       "DARNESTOWN RD                        406\n",
       "WOODFIELD RD                         399\n",
       "EISENHOWER MEMORIAL HWY              391\n",
       "MONTGOMERY VILLAGE AVE               374\n",
       "GREAT SENECA HWY                     354\n",
       "CLOPPER RD                           349\n",
       "QUINCE ORCHARD RD                    339\n",
       "WISCONSIN AVE                        338\n",
       "CAPITAL BELTWAY                      332\n",
       "PINEY BRANCH RD                      325\n",
       "MUNCASTER MILL RD                    319\n",
       "EAST WEST HWY                        289\n",
       "MIDDLEBROOK RD                       274\n",
       "                                    ... \n",
       "CLEMENT RD                             1\n",
       "NEWCUT ROAD                            1\n",
       "IVY GLEN RD                            1\n",
       "CHESTER MILL RD                        1\n",
       "RAMP 4 FR IS 270 NB TO MD 121 EB       1\n",
       "SPRING HILL LA                         1\n",
       "OVERHILL RD                            1\n",
       "KENILWORTH DRWY                        1\n",
       "BETHPAGE LA                            1\n",
       "OLC COLUMBIA PIKE                      1\n",
       "CABLE DR                               1\n",
       "DAIRYTON CT                            1\n",
       "PATTON PL                              1\n",
       "DAHILL RD                              1\n",
       "CHEVY CHASE DR                         1\n",
       "SUGAR PINE WAY                         1\n",
       "JOHNSON RD                             1\n",
       "TEABERRY RD                            1\n",
       "CLUB LAKE RD                           1\n",
       "KENWAY ST                              1\n",
       "BALLET WAY                             1\n",
       "DELAWARE ST                            1\n",
       "INSPIRATION LA                         1\n",
       "SWAINS LOCK RD                         1\n",
       "WABASH AVE                             1\n",
       "COTTAGE HILL CT                        1\n",
       "CHELTENHAM DR                          1\n",
       "IS 370 WB                              1\n",
       "LIMETREE RD                            1\n",
       "DOUGLAS AVE                            1\n",
       "Name: Road Name, Length: 2500, dtype: int64"
      ]
     },
     "execution_count": 22,
     "metadata": {},
     "output_type": "execute_result"
    }
   ],
   "source": [
    "df2['Road Name'].value_counts()"
   ]
  },
  {
   "cell_type": "code",
   "execution_count": 23,
   "metadata": {},
   "outputs": [
    {
     "data": {
      "text/plain": [
       "array(['Report Number', 'Local Case Number', 'Agency Name',\n",
       "       'ACRS Report Type', 'Crash Date/Time', 'Route Type', 'Road Name',\n",
       "       'Cross-Street Type', 'Cross-Street Name', 'Off-Road Description',\n",
       "       'Municipality', 'Related Non-Motorist', 'At Fault',\n",
       "       'Collision Type', 'Weather', 'Surface Condition', 'Light',\n",
       "       'Traffic Control', 'Driver Substance Abuse',\n",
       "       'Non-Motorist Substance Abuse', 'First Harmful Event',\n",
       "       'Second Harmful Event', 'Fixed Oject Struck', 'Junction',\n",
       "       'Intersection Type', 'Road Alignment', 'Road Condition',\n",
       "       'Road Division', 'Latitude', 'Longitude', 'Location'], dtype=object)"
      ]
     },
     "execution_count": 23,
     "metadata": {},
     "output_type": "execute_result"
    }
   ],
   "source": [
    "df2.columns.values"
   ]
  },
  {
   "cell_type": "code",
   "execution_count": 24,
   "metadata": {},
   "outputs": [
    {
     "data": {
      "text/plain": [
       "CLEAR                       29322\n",
       "RAINING                      5485\n",
       "CLOUDY                       4561\n",
       "SNOW                          481\n",
       "UNKNOWN                       262\n",
       "FOGGY                         184\n",
       "WINTRY MIX                    143\n",
       "OTHER                         100\n",
       "SLEET                          63\n",
       "SEVERE WINDS                   51\n",
       "BLOWING SNOW                   51\n",
       "BLOWING SAND, SOIL, DIRT        7\n",
       "Name: Weather, dtype: int64"
      ]
     },
     "execution_count": 24,
     "metadata": {},
     "output_type": "execute_result"
    }
   ],
   "source": [
    "df2['Weather'].value_counts()"
   ]
  },
  {
   "cell_type": "code",
   "execution_count": 25,
   "metadata": {},
   "outputs": [
    {
     "data": {
      "text/plain": [
       "DAYLIGHT                    29540\n",
       "DARK LIGHTS ON              10004\n",
       "DARK NO LIGHTS               1617\n",
       "DUSK                         1046\n",
       "DAWN                          910\n",
       "DARK -- UNKNOWN LIGHTING      483\n",
       "UNKNOWN                       306\n",
       "OTHER                         112\n",
       "Name: Light, dtype: int64"
      ]
     },
     "execution_count": 25,
     "metadata": {},
     "output_type": "execute_result"
    }
   ],
   "source": [
    "df2['Light'].value_counts()"
   ]
  },
  {
   "cell_type": "code",
   "execution_count": 26,
   "metadata": {},
   "outputs": [
    {
     "data": {
      "text/plain": [
       "DRY                       29055\n",
       "WET                        7537\n",
       "ICE                         392\n",
       "SNOW                        346\n",
       "UNKNOWN                     181\n",
       "OTHER                        63\n",
       "SLUSH                        59\n",
       "MUD, DIRT, GRAVEL            22\n",
       "WATER(STANDING/MOVING)       12\n",
       "OIL                           5\n",
       "SAND                          3\n",
       "Name: Surface Condition, dtype: int64"
      ]
     },
     "execution_count": 26,
     "metadata": {},
     "output_type": "execute_result"
    }
   ],
   "source": [
    "df2['Surface Condition'].value_counts()"
   ]
  },
  {
   "cell_type": "code",
   "execution_count": 27,
   "metadata": {},
   "outputs": [],
   "source": [
    "#Creating dataframes to compare crashes during wet and dry conditions\n",
    "dfSlip = df2.loc[(df2['Surface Condition'] == 'WET') | (df2['Surface Condition'] == 'ICE') | (df2['Surface Condition'] == 'SNOW')]\n",
    "dfDry = df2.loc[(df2['Surface Condition'] == 'DRY')]"
   ]
  },
  {
   "cell_type": "code",
   "execution_count": 28,
   "metadata": {},
   "outputs": [
    {
     "data": {
      "text/html": [
       "<div>\n",
       "<style scoped>\n",
       "    .dataframe tbody tr th:only-of-type {\n",
       "        vertical-align: middle;\n",
       "    }\n",
       "\n",
       "    .dataframe tbody tr th {\n",
       "        vertical-align: top;\n",
       "    }\n",
       "\n",
       "    .dataframe thead th {\n",
       "        text-align: right;\n",
       "    }\n",
       "</style>\n",
       "<table border=\"1\" class=\"dataframe\">\n",
       "  <thead>\n",
       "    <tr style=\"text-align: right;\">\n",
       "      <th></th>\n",
       "      <th>Report Number</th>\n",
       "      <th>Local Case Number</th>\n",
       "      <th>Agency Name</th>\n",
       "      <th>ACRS Report Type</th>\n",
       "      <th>Crash Date/Time</th>\n",
       "      <th>Route Type</th>\n",
       "      <th>Road Name</th>\n",
       "      <th>Cross-Street Type</th>\n",
       "      <th>Cross-Street Name</th>\n",
       "      <th>Off-Road Description</th>\n",
       "      <th>...</th>\n",
       "      <th>Second Harmful Event</th>\n",
       "      <th>Fixed Oject Struck</th>\n",
       "      <th>Junction</th>\n",
       "      <th>Intersection Type</th>\n",
       "      <th>Road Alignment</th>\n",
       "      <th>Road Condition</th>\n",
       "      <th>Road Division</th>\n",
       "      <th>Latitude</th>\n",
       "      <th>Longitude</th>\n",
       "      <th>Location</th>\n",
       "    </tr>\n",
       "  </thead>\n",
       "  <tbody>\n",
       "    <tr>\n",
       "      <th>18</th>\n",
       "      <td>MCP21070011</td>\n",
       "      <td>17000332</td>\n",
       "      <td>Montgomery County Police</td>\n",
       "      <td>Injury Crash</td>\n",
       "      <td>1/3/17 7:32</td>\n",
       "      <td>Maryland (State)</td>\n",
       "      <td>CLOPPER RD</td>\n",
       "      <td>County</td>\n",
       "      <td>CINNAMON DR</td>\n",
       "      <td>NaN</td>\n",
       "      <td>...</td>\n",
       "      <td>NaN</td>\n",
       "      <td>NaN</td>\n",
       "      <td>INTERSECTION RELATED</td>\n",
       "      <td>T-INTERSECTION</td>\n",
       "      <td>STRAIGHT</td>\n",
       "      <td>NO DEFECTS</td>\n",
       "      <td>TWO-WAY, NOT DIVIDED</td>\n",
       "      <td>39.156108</td>\n",
       "      <td>-77.264519</td>\n",
       "      <td>(39.15610804, -77.26451889)</td>\n",
       "    </tr>\n",
       "    <tr>\n",
       "      <th>24</th>\n",
       "      <td>MCP2511000D</td>\n",
       "      <td>15000847</td>\n",
       "      <td>Montgomery County Police</td>\n",
       "      <td>Injury Crash</td>\n",
       "      <td>1/6/15 7:46</td>\n",
       "      <td>County</td>\n",
       "      <td>MONTGOMERY VILLAGE AVE</td>\n",
       "      <td>County</td>\n",
       "      <td>MEADOWCROFT LA</td>\n",
       "      <td>NaN</td>\n",
       "      <td>...</td>\n",
       "      <td>NaN</td>\n",
       "      <td>NaN</td>\n",
       "      <td>NON INTERSECTION</td>\n",
       "      <td>NaN</td>\n",
       "      <td>STRAIGHT</td>\n",
       "      <td>NO DEFECTS</td>\n",
       "      <td>ONE-WAY TRAFFICWAY</td>\n",
       "      <td>39.184525</td>\n",
       "      <td>-77.198883</td>\n",
       "      <td>(39.184525, -77.19888333)</td>\n",
       "    </tr>\n",
       "    <tr>\n",
       "      <th>25</th>\n",
       "      <td>MCP1397000D</td>\n",
       "      <td>15064718</td>\n",
       "      <td>MONTGOMERY</td>\n",
       "      <td>Property Damage Crash</td>\n",
       "      <td>12/17/15 13:20</td>\n",
       "      <td>County</td>\n",
       "      <td>CRYSTAL ROCK DR</td>\n",
       "      <td>County</td>\n",
       "      <td>REXMORE DR</td>\n",
       "      <td>NaN</td>\n",
       "      <td>...</td>\n",
       "      <td>FIXED OBJECT</td>\n",
       "      <td>NaN</td>\n",
       "      <td>ALLEY</td>\n",
       "      <td>NaN</td>\n",
       "      <td>STRAIGHT</td>\n",
       "      <td>NO DEFECTS</td>\n",
       "      <td>TWO-WAY, NOT DIVIDED</td>\n",
       "      <td>39.185134</td>\n",
       "      <td>-77.263977</td>\n",
       "      <td>(39.18513379, -77.26397708)</td>\n",
       "    </tr>\n",
       "    <tr>\n",
       "      <th>44</th>\n",
       "      <td>MCP2311000C</td>\n",
       "      <td>15039111</td>\n",
       "      <td>MONTGOMERY</td>\n",
       "      <td>Injury Crash</td>\n",
       "      <td>8/6/15 16:37</td>\n",
       "      <td>County</td>\n",
       "      <td>MONTGOMERY VILLAGE AVE</td>\n",
       "      <td>County</td>\n",
       "      <td>LAKE SHORE DR</td>\n",
       "      <td>NaN</td>\n",
       "      <td>...</td>\n",
       "      <td>NaN</td>\n",
       "      <td>NaN</td>\n",
       "      <td>INTERSECTION</td>\n",
       "      <td>FOUR-WAY INTERSECTION</td>\n",
       "      <td>STRAIGHT</td>\n",
       "      <td>NO DEFECTS</td>\n",
       "      <td>TWO-WAY, DIVIDED, POSITIVE MEDIAN BARRIER</td>\n",
       "      <td>39.170160</td>\n",
       "      <td>-77.194485</td>\n",
       "      <td>(39.17016, -77.194485)</td>\n",
       "    </tr>\n",
       "    <tr>\n",
       "      <th>48</th>\n",
       "      <td>MCP20810004</td>\n",
       "      <td>15006659</td>\n",
       "      <td>MONTGOMERY</td>\n",
       "      <td>Injury Crash</td>\n",
       "      <td>2/9/15 22:27</td>\n",
       "      <td>Maryland (State)</td>\n",
       "      <td>W DIAMOND AVE</td>\n",
       "      <td>Municipality</td>\n",
       "      <td>FULKS CORNER AVE</td>\n",
       "      <td>NaN</td>\n",
       "      <td>...</td>\n",
       "      <td>NaN</td>\n",
       "      <td>GUARDRAIL OR BARRIER</td>\n",
       "      <td>NON INTERSECTION</td>\n",
       "      <td>NaN</td>\n",
       "      <td>CURVE RIGHT</td>\n",
       "      <td>NO DEFECTS</td>\n",
       "      <td>TWO-WAY, NOT DIVIDED</td>\n",
       "      <td>39.141120</td>\n",
       "      <td>-77.197312</td>\n",
       "      <td>(39.14112001, -77.19731212)</td>\n",
       "    </tr>\n",
       "  </tbody>\n",
       "</table>\n",
       "<p>5 rows × 31 columns</p>\n",
       "</div>"
      ],
      "text/plain": [
       "   Report Number Local Case Number               Agency Name  \\\n",
       "18   MCP21070011          17000332  Montgomery County Police   \n",
       "24   MCP2511000D          15000847  Montgomery County Police   \n",
       "25   MCP1397000D          15064718                MONTGOMERY   \n",
       "44   MCP2311000C          15039111                MONTGOMERY   \n",
       "48   MCP20810004          15006659                MONTGOMERY   \n",
       "\n",
       "         ACRS Report Type Crash Date/Time        Route Type  \\\n",
       "18           Injury Crash     1/3/17 7:32  Maryland (State)   \n",
       "24           Injury Crash     1/6/15 7:46            County   \n",
       "25  Property Damage Crash  12/17/15 13:20            County   \n",
       "44           Injury Crash    8/6/15 16:37            County   \n",
       "48           Injury Crash    2/9/15 22:27  Maryland (State)   \n",
       "\n",
       "                 Road Name Cross-Street Type Cross-Street Name  \\\n",
       "18              CLOPPER RD            County       CINNAMON DR   \n",
       "24  MONTGOMERY VILLAGE AVE            County    MEADOWCROFT LA   \n",
       "25         CRYSTAL ROCK DR            County        REXMORE DR   \n",
       "44  MONTGOMERY VILLAGE AVE            County     LAKE SHORE DR   \n",
       "48           W DIAMOND AVE      Municipality  FULKS CORNER AVE   \n",
       "\n",
       "   Off-Road Description  ... Second Harmful Event    Fixed Oject Struck  \\\n",
       "18                  NaN  ...                  NaN                   NaN   \n",
       "24                  NaN  ...                  NaN                   NaN   \n",
       "25                  NaN  ...         FIXED OBJECT                   NaN   \n",
       "44                  NaN  ...                  NaN                   NaN   \n",
       "48                  NaN  ...                  NaN  GUARDRAIL OR BARRIER   \n",
       "\n",
       "                Junction      Intersection Type Road Alignment Road Condition  \\\n",
       "18  INTERSECTION RELATED         T-INTERSECTION       STRAIGHT     NO DEFECTS   \n",
       "24      NON INTERSECTION                    NaN       STRAIGHT     NO DEFECTS   \n",
       "25                 ALLEY                    NaN       STRAIGHT     NO DEFECTS   \n",
       "44          INTERSECTION  FOUR-WAY INTERSECTION       STRAIGHT     NO DEFECTS   \n",
       "48      NON INTERSECTION                    NaN    CURVE RIGHT     NO DEFECTS   \n",
       "\n",
       "                                Road Division   Latitude  Longitude  \\\n",
       "18                       TWO-WAY, NOT DIVIDED  39.156108 -77.264519   \n",
       "24                         ONE-WAY TRAFFICWAY  39.184525 -77.198883   \n",
       "25                       TWO-WAY, NOT DIVIDED  39.185134 -77.263977   \n",
       "44  TWO-WAY, DIVIDED, POSITIVE MEDIAN BARRIER  39.170160 -77.194485   \n",
       "48                       TWO-WAY, NOT DIVIDED  39.141120 -77.197312   \n",
       "\n",
       "                       Location  \n",
       "18  (39.15610804, -77.26451889)  \n",
       "24    (39.184525, -77.19888333)  \n",
       "25  (39.18513379, -77.26397708)  \n",
       "44       (39.17016, -77.194485)  \n",
       "48  (39.14112001, -77.19731212)  \n",
       "\n",
       "[5 rows x 31 columns]"
      ]
     },
     "execution_count": 28,
     "metadata": {},
     "output_type": "execute_result"
    }
   ],
   "source": [
    "dfSlip.head()"
   ]
  },
  {
   "cell_type": "code",
   "execution_count": 29,
   "metadata": {},
   "outputs": [
    {
     "name": "stderr",
     "output_type": "stream",
     "text": [
      "C:\\Users\\Charlie\\Anaconda3\\lib\\site-packages\\ipykernel_launcher.py:1: SettingWithCopyWarning: \n",
      "A value is trying to be set on a copy of a slice from a DataFrame.\n",
      "Try using .loc[row_indexer,col_indexer] = value instead\n",
      "\n",
      "See the caveats in the documentation: http://pandas.pydata.org/pandas-docs/stable/indexing.html#indexing-view-versus-copy\n",
      "  \"\"\"Entry point for launching an IPython kernel.\n",
      "C:\\Users\\Charlie\\Anaconda3\\lib\\site-packages\\ipykernel_launcher.py:3: SettingWithCopyWarning: \n",
      "A value is trying to be set on a copy of a slice from a DataFrame.\n",
      "Try using .loc[row_indexer,col_indexer] = value instead\n",
      "\n",
      "See the caveats in the documentation: http://pandas.pydata.org/pandas-docs/stable/indexing.html#indexing-view-versus-copy\n",
      "  This is separate from the ipykernel package so we can avoid doing imports until\n"
     ]
    },
    {
     "data": {
      "text/html": [
       "<div>\n",
       "<style scoped>\n",
       "    .dataframe tbody tr th:only-of-type {\n",
       "        vertical-align: middle;\n",
       "    }\n",
       "\n",
       "    .dataframe tbody tr th {\n",
       "        vertical-align: top;\n",
       "    }\n",
       "\n",
       "    .dataframe thead th {\n",
       "        text-align: right;\n",
       "    }\n",
       "</style>\n",
       "<table border=\"1\" class=\"dataframe\">\n",
       "  <thead>\n",
       "    <tr style=\"text-align: right;\">\n",
       "      <th></th>\n",
       "      <th>Report Number</th>\n",
       "      <th>Local Case Number</th>\n",
       "      <th>Agency Name</th>\n",
       "      <th>ACRS Report Type</th>\n",
       "      <th>Crash Date/Time</th>\n",
       "      <th>Route Type</th>\n",
       "      <th>Road Name</th>\n",
       "      <th>Cross-Street Type</th>\n",
       "      <th>Cross-Street Name</th>\n",
       "      <th>Off-Road Description</th>\n",
       "      <th>...</th>\n",
       "      <th>Fixed Oject Struck</th>\n",
       "      <th>Junction</th>\n",
       "      <th>Intersection Type</th>\n",
       "      <th>Road Alignment</th>\n",
       "      <th>Road Condition</th>\n",
       "      <th>Road Division</th>\n",
       "      <th>Latitude</th>\n",
       "      <th>Longitude</th>\n",
       "      <th>Location</th>\n",
       "      <th>date</th>\n",
       "    </tr>\n",
       "  </thead>\n",
       "  <tbody>\n",
       "    <tr>\n",
       "      <th>18</th>\n",
       "      <td>MCP21070011</td>\n",
       "      <td>17000332</td>\n",
       "      <td>Montgomery County Police</td>\n",
       "      <td>Injury Crash</td>\n",
       "      <td>1/3/17 7:32</td>\n",
       "      <td>Maryland (State)</td>\n",
       "      <td>CLOPPER RD</td>\n",
       "      <td>County</td>\n",
       "      <td>CINNAMON DR</td>\n",
       "      <td>NaN</td>\n",
       "      <td>...</td>\n",
       "      <td>NaN</td>\n",
       "      <td>INTERSECTION RELATED</td>\n",
       "      <td>T-INTERSECTION</td>\n",
       "      <td>STRAIGHT</td>\n",
       "      <td>NO DEFECTS</td>\n",
       "      <td>TWO-WAY, NOT DIVIDED</td>\n",
       "      <td>39.156108</td>\n",
       "      <td>-77.264519</td>\n",
       "      <td>(39.15610804, -77.26451889)</td>\n",
       "      <td>2017-01-03 07:00:00</td>\n",
       "    </tr>\n",
       "    <tr>\n",
       "      <th>24</th>\n",
       "      <td>MCP2511000D</td>\n",
       "      <td>15000847</td>\n",
       "      <td>Montgomery County Police</td>\n",
       "      <td>Injury Crash</td>\n",
       "      <td>1/6/15 7:46</td>\n",
       "      <td>County</td>\n",
       "      <td>MONTGOMERY VILLAGE AVE</td>\n",
       "      <td>County</td>\n",
       "      <td>MEADOWCROFT LA</td>\n",
       "      <td>NaN</td>\n",
       "      <td>...</td>\n",
       "      <td>NaN</td>\n",
       "      <td>NON INTERSECTION</td>\n",
       "      <td>NaN</td>\n",
       "      <td>STRAIGHT</td>\n",
       "      <td>NO DEFECTS</td>\n",
       "      <td>ONE-WAY TRAFFICWAY</td>\n",
       "      <td>39.184525</td>\n",
       "      <td>-77.198883</td>\n",
       "      <td>(39.184525, -77.19888333)</td>\n",
       "      <td>2015-01-06 07:00:00</td>\n",
       "    </tr>\n",
       "    <tr>\n",
       "      <th>25</th>\n",
       "      <td>MCP1397000D</td>\n",
       "      <td>15064718</td>\n",
       "      <td>MONTGOMERY</td>\n",
       "      <td>Property Damage Crash</td>\n",
       "      <td>12/17/15 13:20</td>\n",
       "      <td>County</td>\n",
       "      <td>CRYSTAL ROCK DR</td>\n",
       "      <td>County</td>\n",
       "      <td>REXMORE DR</td>\n",
       "      <td>NaN</td>\n",
       "      <td>...</td>\n",
       "      <td>NaN</td>\n",
       "      <td>ALLEY</td>\n",
       "      <td>NaN</td>\n",
       "      <td>STRAIGHT</td>\n",
       "      <td>NO DEFECTS</td>\n",
       "      <td>TWO-WAY, NOT DIVIDED</td>\n",
       "      <td>39.185134</td>\n",
       "      <td>-77.263977</td>\n",
       "      <td>(39.18513379, -77.26397708)</td>\n",
       "      <td>2015-12-17 13:00:00</td>\n",
       "    </tr>\n",
       "    <tr>\n",
       "      <th>44</th>\n",
       "      <td>MCP2311000C</td>\n",
       "      <td>15039111</td>\n",
       "      <td>MONTGOMERY</td>\n",
       "      <td>Injury Crash</td>\n",
       "      <td>8/6/15 16:37</td>\n",
       "      <td>County</td>\n",
       "      <td>MONTGOMERY VILLAGE AVE</td>\n",
       "      <td>County</td>\n",
       "      <td>LAKE SHORE DR</td>\n",
       "      <td>NaN</td>\n",
       "      <td>...</td>\n",
       "      <td>NaN</td>\n",
       "      <td>INTERSECTION</td>\n",
       "      <td>FOUR-WAY INTERSECTION</td>\n",
       "      <td>STRAIGHT</td>\n",
       "      <td>NO DEFECTS</td>\n",
       "      <td>TWO-WAY, DIVIDED, POSITIVE MEDIAN BARRIER</td>\n",
       "      <td>39.170160</td>\n",
       "      <td>-77.194485</td>\n",
       "      <td>(39.17016, -77.194485)</td>\n",
       "      <td>2015-08-06 16:00:00</td>\n",
       "    </tr>\n",
       "    <tr>\n",
       "      <th>48</th>\n",
       "      <td>MCP20810004</td>\n",
       "      <td>15006659</td>\n",
       "      <td>MONTGOMERY</td>\n",
       "      <td>Injury Crash</td>\n",
       "      <td>2/9/15 22:27</td>\n",
       "      <td>Maryland (State)</td>\n",
       "      <td>W DIAMOND AVE</td>\n",
       "      <td>Municipality</td>\n",
       "      <td>FULKS CORNER AVE</td>\n",
       "      <td>NaN</td>\n",
       "      <td>...</td>\n",
       "      <td>GUARDRAIL OR BARRIER</td>\n",
       "      <td>NON INTERSECTION</td>\n",
       "      <td>NaN</td>\n",
       "      <td>CURVE RIGHT</td>\n",
       "      <td>NO DEFECTS</td>\n",
       "      <td>TWO-WAY, NOT DIVIDED</td>\n",
       "      <td>39.141120</td>\n",
       "      <td>-77.197312</td>\n",
       "      <td>(39.14112001, -77.19731212)</td>\n",
       "      <td>2015-02-09 22:00:00</td>\n",
       "    </tr>\n",
       "  </tbody>\n",
       "</table>\n",
       "<p>5 rows × 32 columns</p>\n",
       "</div>"
      ],
      "text/plain": [
       "   Report Number Local Case Number               Agency Name  \\\n",
       "18   MCP21070011          17000332  Montgomery County Police   \n",
       "24   MCP2511000D          15000847  Montgomery County Police   \n",
       "25   MCP1397000D          15064718                MONTGOMERY   \n",
       "44   MCP2311000C          15039111                MONTGOMERY   \n",
       "48   MCP20810004          15006659                MONTGOMERY   \n",
       "\n",
       "         ACRS Report Type Crash Date/Time        Route Type  \\\n",
       "18           Injury Crash     1/3/17 7:32  Maryland (State)   \n",
       "24           Injury Crash     1/6/15 7:46            County   \n",
       "25  Property Damage Crash  12/17/15 13:20            County   \n",
       "44           Injury Crash    8/6/15 16:37            County   \n",
       "48           Injury Crash    2/9/15 22:27  Maryland (State)   \n",
       "\n",
       "                 Road Name Cross-Street Type Cross-Street Name  \\\n",
       "18              CLOPPER RD            County       CINNAMON DR   \n",
       "24  MONTGOMERY VILLAGE AVE            County    MEADOWCROFT LA   \n",
       "25         CRYSTAL ROCK DR            County        REXMORE DR   \n",
       "44  MONTGOMERY VILLAGE AVE            County     LAKE SHORE DR   \n",
       "48           W DIAMOND AVE      Municipality  FULKS CORNER AVE   \n",
       "\n",
       "   Off-Road Description  ...    Fixed Oject Struck              Junction  \\\n",
       "18                  NaN  ...                   NaN  INTERSECTION RELATED   \n",
       "24                  NaN  ...                   NaN      NON INTERSECTION   \n",
       "25                  NaN  ...                   NaN                 ALLEY   \n",
       "44                  NaN  ...                   NaN          INTERSECTION   \n",
       "48                  NaN  ...  GUARDRAIL OR BARRIER      NON INTERSECTION   \n",
       "\n",
       "        Intersection Type Road Alignment Road Condition  \\\n",
       "18         T-INTERSECTION       STRAIGHT     NO DEFECTS   \n",
       "24                    NaN       STRAIGHT     NO DEFECTS   \n",
       "25                    NaN       STRAIGHT     NO DEFECTS   \n",
       "44  FOUR-WAY INTERSECTION       STRAIGHT     NO DEFECTS   \n",
       "48                    NaN    CURVE RIGHT     NO DEFECTS   \n",
       "\n",
       "                                Road Division   Latitude  Longitude  \\\n",
       "18                       TWO-WAY, NOT DIVIDED  39.156108 -77.264519   \n",
       "24                         ONE-WAY TRAFFICWAY  39.184525 -77.198883   \n",
       "25                       TWO-WAY, NOT DIVIDED  39.185134 -77.263977   \n",
       "44  TWO-WAY, DIVIDED, POSITIVE MEDIAN BARRIER  39.170160 -77.194485   \n",
       "48                       TWO-WAY, NOT DIVIDED  39.141120 -77.197312   \n",
       "\n",
       "                       Location                date  \n",
       "18  (39.15610804, -77.26451889) 2017-01-03 07:00:00  \n",
       "24    (39.184525, -77.19888333) 2015-01-06 07:00:00  \n",
       "25  (39.18513379, -77.26397708) 2015-12-17 13:00:00  \n",
       "44       (39.17016, -77.194485) 2015-08-06 16:00:00  \n",
       "48  (39.14112001, -77.19731212) 2015-02-09 22:00:00  \n",
       "\n",
       "[5 rows x 32 columns]"
      ]
     },
     "execution_count": 29,
     "metadata": {},
     "output_type": "execute_result"
    }
   ],
   "source": [
    "dfSlip['date'] = pd.to_datetime(dfSlip['Crash Date/Time'])\n",
    "\n",
    "dfSlip['date'] = dfSlip['date'].apply(lambda x: x.replace(minute=0))\n",
    "\n",
    "dfSlip.head()\n"
   ]
  },
  {
   "cell_type": "code",
   "execution_count": 30,
   "metadata": {},
   "outputs": [
    {
     "data": {
      "text/plain": [
       "2017-12-15 15:00:00    13\n",
       "2016-02-02 08:00:00    12\n",
       "2017-12-05 18:00:00    11\n",
       "2015-11-10 17:00:00    11\n",
       "2016-05-03 08:00:00    10\n",
       "2016-11-30 17:00:00    10\n",
       "2015-09-29 18:00:00     9\n",
       "2015-02-15 09:00:00     9\n",
       "2018-07-23 08:00:00     9\n",
       "2015-12-02 17:00:00     9\n",
       "2017-03-31 17:00:00     8\n",
       "2016-02-02 07:00:00     8\n",
       "2016-01-27 19:00:00     8\n",
       "2017-10-11 18:00:00     8\n",
       "2016-11-09 09:00:00     8\n",
       "2015-09-30 08:00:00     8\n",
       "2015-10-28 14:00:00     8\n",
       "2015-12-23 17:00:00     8\n",
       "2016-09-28 15:00:00     8\n",
       "2016-12-06 17:00:00     8\n",
       "2015-01-06 12:00:00     7\n",
       "2017-12-15 18:00:00     7\n",
       "2017-07-06 08:00:00     7\n",
       "2016-06-03 17:00:00     7\n",
       "2016-05-17 17:00:00     7\n",
       "2016-09-01 09:00:00     7\n",
       "2016-11-29 09:00:00     7\n",
       "2015-05-27 16:00:00     7\n",
       "2017-08-29 17:00:00     7\n",
       "2015-05-21 12:00:00     7\n",
       "                       ..\n",
       "2017-05-23 05:00:00     1\n",
       "2015-12-22 12:00:00     1\n",
       "2017-01-12 07:00:00     1\n",
       "2017-05-14 06:00:00     1\n",
       "2017-05-05 12:00:00     1\n",
       "2017-02-28 22:00:00     1\n",
       "2015-03-14 13:00:00     1\n",
       "2018-10-26 16:00:00     1\n",
       "2017-01-21 01:00:00     1\n",
       "2016-08-16 06:00:00     1\n",
       "2016-10-02 12:00:00     1\n",
       "2018-04-15 17:00:00     1\n",
       "2017-03-08 07:00:00     1\n",
       "2015-06-15 17:00:00     1\n",
       "2017-07-18 15:00:00     1\n",
       "2017-11-09 16:00:00     1\n",
       "2018-07-31 12:00:00     1\n",
       "2015-06-01 22:00:00     1\n",
       "2016-02-22 08:00:00     1\n",
       "2017-01-15 08:00:00     1\n",
       "2018-08-20 06:00:00     1\n",
       "2018-04-24 19:00:00     1\n",
       "2018-02-18 10:00:00     1\n",
       "2016-04-29 07:00:00     1\n",
       "2015-06-17 22:00:00     1\n",
       "2017-09-01 10:00:00     1\n",
       "2018-02-09 11:00:00     1\n",
       "2017-12-23 15:00:00     1\n",
       "2018-04-15 20:00:00     1\n",
       "2015-02-09 07:00:00     1\n",
       "Name: date, Length: 4433, dtype: int64"
      ]
     },
     "execution_count": 30,
     "metadata": {},
     "output_type": "execute_result"
    }
   ],
   "source": [
    "dfSlip['date'].value_counts()"
   ]
  },
  {
   "cell_type": "code",
   "execution_count": 31,
   "metadata": {},
   "outputs": [
    {
     "name": "stderr",
     "output_type": "stream",
     "text": [
      "C:\\Users\\Charlie\\Anaconda3\\lib\\site-packages\\ipykernel_launcher.py:1: SettingWithCopyWarning: \n",
      "A value is trying to be set on a copy of a slice from a DataFrame.\n",
      "Try using .loc[row_indexer,col_indexer] = value instead\n",
      "\n",
      "See the caveats in the documentation: http://pandas.pydata.org/pandas-docs/stable/indexing.html#indexing-view-versus-copy\n",
      "  \"\"\"Entry point for launching an IPython kernel.\n",
      "C:\\Users\\Charlie\\Anaconda3\\lib\\site-packages\\ipykernel_launcher.py:3: SettingWithCopyWarning: \n",
      "A value is trying to be set on a copy of a slice from a DataFrame.\n",
      "Try using .loc[row_indexer,col_indexer] = value instead\n",
      "\n",
      "See the caveats in the documentation: http://pandas.pydata.org/pandas-docs/stable/indexing.html#indexing-view-versus-copy\n",
      "  This is separate from the ipykernel package so we can avoid doing imports until\n"
     ]
    }
   ],
   "source": [
    "dfDry['date'] = pd.to_datetime(dfDry['Crash Date/Time'])\n",
    "\n",
    "dfDry['date'] = dfDry['date'].apply(lambda x: x.replace(minute=0))"
   ]
  },
  {
   "cell_type": "code",
   "execution_count": 32,
   "metadata": {},
   "outputs": [
    {
     "data": {
      "text/plain": [
       "2018-09-06 17:00:00    10\n",
       "2017-12-13 17:00:00    10\n",
       "2016-12-01 17:00:00    10\n",
       "2016-10-18 08:00:00     9\n",
       "2016-05-19 17:00:00     9\n",
       "2017-11-20 17:00:00     9\n",
       "2015-05-28 15:00:00     9\n",
       "2015-09-11 15:00:00     9\n",
       "2016-11-08 17:00:00     9\n",
       "2015-11-24 15:00:00     8\n",
       "2016-11-07 08:00:00     8\n",
       "2015-06-02 17:00:00     8\n",
       "2016-06-02 16:00:00     8\n",
       "2017-05-02 17:00:00     8\n",
       "2015-07-20 17:00:00     8\n",
       "2015-12-03 08:00:00     8\n",
       "2016-10-05 15:00:00     8\n",
       "2015-05-19 18:00:00     8\n",
       "2016-08-19 16:00:00     8\n",
       "2015-12-21 17:00:00     8\n",
       "2016-06-24 15:00:00     8\n",
       "2018-03-14 16:00:00     7\n",
       "2015-09-16 09:00:00     7\n",
       "2016-02-19 07:00:00     7\n",
       "2017-09-19 16:00:00     7\n",
       "2017-03-09 16:00:00     7\n",
       "2015-05-16 12:00:00     7\n",
       "2016-01-12 17:00:00     7\n",
       "2018-10-10 15:00:00     7\n",
       "2017-03-08 17:00:00     7\n",
       "                       ..\n",
       "2018-07-16 15:00:00     1\n",
       "2017-08-12 10:00:00     1\n",
       "2016-06-21 10:00:00     1\n",
       "2017-08-21 09:00:00     1\n",
       "2017-06-28 08:00:00     1\n",
       "2017-08-30 08:00:00     1\n",
       "2017-09-09 07:00:00     1\n",
       "2018-07-23 18:00:00     1\n",
       "2016-04-01 19:00:00     1\n",
       "2015-02-16 15:00:00     1\n",
       "2015-12-07 13:00:00     1\n",
       "2018-10-05 21:00:00     1\n",
       "2016-07-02 20:00:00     1\n",
       "2018-02-13 07:00:00     1\n",
       "2016-02-18 14:00:00     1\n",
       "2018-06-24 07:00:00     1\n",
       "2015-01-15 21:00:00     1\n",
       "2015-02-02 20:00:00     1\n",
       "2015-11-30 02:00:00     1\n",
       "2018-05-13 02:00:00     1\n",
       "2017-12-10 08:00:00     1\n",
       "2016-10-19 09:00:00     1\n",
       "2016-05-01 13:00:00     1\n",
       "2016-08-27 15:00:00     1\n",
       "2015-02-11 21:00:00     1\n",
       "2018-04-18 14:00:00     1\n",
       "2015-03-16 09:00:00     1\n",
       "2015-08-19 09:00:00     1\n",
       "2016-09-30 11:00:00     1\n",
       "2015-02-23 10:00:00     1\n",
       "Name: date, Length: 16278, dtype: int64"
      ]
     },
     "execution_count": 32,
     "metadata": {},
     "output_type": "execute_result"
    }
   ],
   "source": [
    "dfDry['date'].value_counts()"
   ]
  },
  {
   "cell_type": "code",
   "execution_count": 33,
   "metadata": {},
   "outputs": [
    {
     "name": "stdout",
     "output_type": "stream",
     "text": [
      "Slip Road Cond\n"
     ]
    },
    {
     "data": {
      "text/plain": [
       "count    4433.000000\n",
       "mean        1.866682\n",
       "std         1.298101\n",
       "min         1.000000\n",
       "25%         1.000000\n",
       "50%         1.000000\n",
       "75%         2.000000\n",
       "max        13.000000\n",
       "Name: date, dtype: float64"
      ]
     },
     "execution_count": 33,
     "metadata": {},
     "output_type": "execute_result"
    }
   ],
   "source": [
    "print('Slip Road Cond')\n",
    "dfSlip['date'].value_counts().describe()"
   ]
  },
  {
   "cell_type": "code",
   "execution_count": 34,
   "metadata": {},
   "outputs": [
    {
     "name": "stdout",
     "output_type": "stream",
     "text": [
      "Dry Road Cond\n"
     ]
    },
    {
     "data": {
      "text/plain": [
       "count    16278.000000\n",
       "mean         1.784924\n",
       "std          1.082685\n",
       "min          1.000000\n",
       "25%          1.000000\n",
       "50%          1.000000\n",
       "75%          2.000000\n",
       "max         10.000000\n",
       "Name: date, dtype: float64"
      ]
     },
     "execution_count": 34,
     "metadata": {},
     "output_type": "execute_result"
    }
   ],
   "source": [
    "print('Dry Road Cond')\n",
    "dfDry['date'].value_counts().describe()"
   ]
  },
  {
   "cell_type": "code",
   "execution_count": 35,
   "metadata": {},
   "outputs": [
    {
     "data": {
      "text/plain": [
       "GEORGIA AVE                                 426\n",
       "NEW HAMPSHIRE AVE                           246\n",
       "FREDERICK RD                                232\n",
       "ROCKVILLE PIKE                              203\n",
       "RANDOLPH RD                                 199\n",
       "CONNECTICUT AVE                             184\n",
       "VEIRS MILL RD                               172\n",
       "COLUMBIA PIKE                               162\n",
       "SHADY GROVE RD                              144\n",
       "COLESVILLE RD                               119\n",
       "CAPITAL BELTWAY                             118\n",
       "OLD GEORGETOWN RD                           112\n",
       "GERMANTOWN RD                               110\n",
       "UNIVERSITY BLVD E                           106\n",
       "RIDGE RD                                    106\n",
       "RIVER RD                                    102\n",
       "EISENHOWER MEMORIAL HWY                     101\n",
       "UNIVERSITY BLVD W                            95\n",
       "WOODFIELD RD                                 86\n",
       "MONTGOMERY VILLAGE AVE                       83\n",
       "CLOPPER RD                                   82\n",
       "DARNESTOWN RD                                80\n",
       "NORBECK RD                                   78\n",
       "MUDDY BRANCH RD                              70\n",
       "BRIGGS CHANEY RD                             69\n",
       "E GUDE DR                                    69\n",
       "MONTROSE PKWY                                68\n",
       "QUINCE ORCHARD RD                            66\n",
       "EAST WEST HWY                                66\n",
       "MONTROSE RD                                  65\n",
       "                                           ... \n",
       "BROOKS AVE                                    1\n",
       "TOTHILL DR                                    1\n",
       "BUTTERWICK WAY                                1\n",
       "GLENOLDEN DR                                  1\n",
       "COLESBERG ST                                  1\n",
       "BRICKYARD RD                                  1\n",
       "STRATHMORE ST                                 1\n",
       "RAINBOW ARCH DR                               1\n",
       "ALEXANDER MANOR DR                            1\n",
       "CENTERHILL ST                                 1\n",
       "JACQUELINE CT                                 1\n",
       "KITCHEN HOUSE CT                              1\n",
       "ENGLEFIELD DR                                 1\n",
       "LIMPKIN AVE                                   1\n",
       "BRUTON PARRISH WAY                            1\n",
       "SCENERY DR                                    1\n",
       "RAMP 1 FR RAMP 4 (FR US 29) TO MD 198 WB      1\n",
       "BEECHCRAFT AVE                                1\n",
       "SHERATON ST                                   1\n",
       "STEWARTOWN RD                                 1\n",
       "TURKEY FOOT RD                                1\n",
       "RAMP 8 FR MD 187 SB TO IS 495 WB              1\n",
       "MINTWOOD ST                                   1\n",
       "OLD VIC BLVD                                  1\n",
       "HARGO ST                                      1\n",
       "JANET RD                                      1\n",
       "YEARLING DR                                   1\n",
       "W MIDDLE LA                                   1\n",
       "EVERGREEN ST                                  1\n",
       "GATEWAY CENTER DR                             1\n",
       "Name: Road Name, Length: 1039, dtype: int64"
      ]
     },
     "execution_count": 35,
     "metadata": {},
     "output_type": "execute_result"
    }
   ],
   "source": [
    "dfSlip['Road Name'].value_counts()"
   ]
  },
  {
   "cell_type": "code",
   "execution_count": 36,
   "metadata": {},
   "outputs": [],
   "source": [
    "#Adding column to df2 so rush hour can be investigated\n",
    "df2['date'] = pd.to_datetime(df2['Crash Date/Time'])\n",
    "df2.head()\n",
    "df2['hour'] = df2['date'].map(lambda x: x.hour)"
   ]
  },
  {
   "cell_type": "code",
   "execution_count": 37,
   "metadata": {},
   "outputs": [
    {
     "data": {
      "text/html": [
       "<div>\n",
       "<style scoped>\n",
       "    .dataframe tbody tr th:only-of-type {\n",
       "        vertical-align: middle;\n",
       "    }\n",
       "\n",
       "    .dataframe tbody tr th {\n",
       "        vertical-align: top;\n",
       "    }\n",
       "\n",
       "    .dataframe thead th {\n",
       "        text-align: right;\n",
       "    }\n",
       "</style>\n",
       "<table border=\"1\" class=\"dataframe\">\n",
       "  <thead>\n",
       "    <tr style=\"text-align: right;\">\n",
       "      <th></th>\n",
       "      <th>Report Number</th>\n",
       "      <th>Local Case Number</th>\n",
       "      <th>Agency Name</th>\n",
       "      <th>ACRS Report Type</th>\n",
       "      <th>Crash Date/Time</th>\n",
       "      <th>Route Type</th>\n",
       "      <th>Road Name</th>\n",
       "      <th>Cross-Street Type</th>\n",
       "      <th>Cross-Street Name</th>\n",
       "      <th>Off-Road Description</th>\n",
       "      <th>...</th>\n",
       "      <th>Junction</th>\n",
       "      <th>Intersection Type</th>\n",
       "      <th>Road Alignment</th>\n",
       "      <th>Road Condition</th>\n",
       "      <th>Road Division</th>\n",
       "      <th>Latitude</th>\n",
       "      <th>Longitude</th>\n",
       "      <th>Location</th>\n",
       "      <th>date</th>\n",
       "      <th>hour</th>\n",
       "    </tr>\n",
       "  </thead>\n",
       "  <tbody>\n",
       "    <tr>\n",
       "      <th>10</th>\n",
       "      <td>MCP2286000Q</td>\n",
       "      <td>15050573</td>\n",
       "      <td>MONTGOMERY</td>\n",
       "      <td>Property Damage Crash</td>\n",
       "      <td>10/6/15 8:59</td>\n",
       "      <td>County</td>\n",
       "      <td>PINEY MEETINGHOUSE RD</td>\n",
       "      <td>County</td>\n",
       "      <td>GLEN RD</td>\n",
       "      <td>NaN</td>\n",
       "      <td>...</td>\n",
       "      <td>INTERSECTION</td>\n",
       "      <td>FOUR-WAY INTERSECTION</td>\n",
       "      <td>STRAIGHT</td>\n",
       "      <td>NO DEFECTS</td>\n",
       "      <td>TWO-WAY, NOT DIVIDED</td>\n",
       "      <td>39.048458</td>\n",
       "      <td>-77.233057</td>\n",
       "      <td>(39.04845833, -77.23305667)</td>\n",
       "      <td>2015-10-06 08:59:00</td>\n",
       "      <td>8</td>\n",
       "    </tr>\n",
       "    <tr>\n",
       "      <th>18</th>\n",
       "      <td>MCP21070011</td>\n",
       "      <td>17000332</td>\n",
       "      <td>Montgomery County Police</td>\n",
       "      <td>Injury Crash</td>\n",
       "      <td>1/3/17 7:32</td>\n",
       "      <td>Maryland (State)</td>\n",
       "      <td>CLOPPER RD</td>\n",
       "      <td>County</td>\n",
       "      <td>CINNAMON DR</td>\n",
       "      <td>NaN</td>\n",
       "      <td>...</td>\n",
       "      <td>INTERSECTION RELATED</td>\n",
       "      <td>T-INTERSECTION</td>\n",
       "      <td>STRAIGHT</td>\n",
       "      <td>NO DEFECTS</td>\n",
       "      <td>TWO-WAY, NOT DIVIDED</td>\n",
       "      <td>39.156108</td>\n",
       "      <td>-77.264519</td>\n",
       "      <td>(39.15610804, -77.26451889)</td>\n",
       "      <td>2017-01-03 07:32:00</td>\n",
       "      <td>7</td>\n",
       "    </tr>\n",
       "    <tr>\n",
       "      <th>24</th>\n",
       "      <td>MCP2511000D</td>\n",
       "      <td>15000847</td>\n",
       "      <td>Montgomery County Police</td>\n",
       "      <td>Injury Crash</td>\n",
       "      <td>1/6/15 7:46</td>\n",
       "      <td>County</td>\n",
       "      <td>MONTGOMERY VILLAGE AVE</td>\n",
       "      <td>County</td>\n",
       "      <td>MEADOWCROFT LA</td>\n",
       "      <td>NaN</td>\n",
       "      <td>...</td>\n",
       "      <td>NON INTERSECTION</td>\n",
       "      <td>NaN</td>\n",
       "      <td>STRAIGHT</td>\n",
       "      <td>NO DEFECTS</td>\n",
       "      <td>ONE-WAY TRAFFICWAY</td>\n",
       "      <td>39.184525</td>\n",
       "      <td>-77.198883</td>\n",
       "      <td>(39.184525, -77.19888333)</td>\n",
       "      <td>2015-01-06 07:46:00</td>\n",
       "      <td>7</td>\n",
       "    </tr>\n",
       "    <tr>\n",
       "      <th>28</th>\n",
       "      <td>MCP2726001L</td>\n",
       "      <td>16059838</td>\n",
       "      <td>Montgomery County Police</td>\n",
       "      <td>Injury Crash</td>\n",
       "      <td>11/21/16 9:01</td>\n",
       "      <td>Maryland (State)</td>\n",
       "      <td>FALLS RD</td>\n",
       "      <td>Ramp</td>\n",
       "      <td>RAMP 5 FR RAMP 8 (FR IS270) TO MD 189 EB</td>\n",
       "      <td>NaN</td>\n",
       "      <td>...</td>\n",
       "      <td>INTERCHANGE RELATED</td>\n",
       "      <td>NaN</td>\n",
       "      <td>CURVE RIGHT</td>\n",
       "      <td>NO DEFECTS</td>\n",
       "      <td>TWO-WAY, DIVIDED, POSITIVE MEDIAN BARRIER</td>\n",
       "      <td>39.074543</td>\n",
       "      <td>-77.163878</td>\n",
       "      <td>(39.07454333, -77.16387833)</td>\n",
       "      <td>2016-11-21 09:01:00</td>\n",
       "      <td>9</td>\n",
       "    </tr>\n",
       "    <tr>\n",
       "      <th>31</th>\n",
       "      <td>MCP2450000S</td>\n",
       "      <td>16043946</td>\n",
       "      <td>Montgomery County Police</td>\n",
       "      <td>Injury Crash</td>\n",
       "      <td>8/29/16 9:30</td>\n",
       "      <td>Maryland (State)</td>\n",
       "      <td>NEW HAMPSHIRE AVE</td>\n",
       "      <td>County</td>\n",
       "      <td>NORTHAMPTON DR</td>\n",
       "      <td>NaN</td>\n",
       "      <td>...</td>\n",
       "      <td>INTERSECTION RELATED</td>\n",
       "      <td>T-INTERSECTION</td>\n",
       "      <td>STRAIGHT</td>\n",
       "      <td>NO DEFECTS</td>\n",
       "      <td>OTHER</td>\n",
       "      <td>39.006182</td>\n",
       "      <td>-76.980595</td>\n",
       "      <td>(39.00618167, -76.980595)</td>\n",
       "      <td>2016-08-29 09:30:00</td>\n",
       "      <td>9</td>\n",
       "    </tr>\n",
       "  </tbody>\n",
       "</table>\n",
       "<p>5 rows × 33 columns</p>\n",
       "</div>"
      ],
      "text/plain": [
       "   Report Number Local Case Number               Agency Name  \\\n",
       "10   MCP2286000Q          15050573                MONTGOMERY   \n",
       "18   MCP21070011          17000332  Montgomery County Police   \n",
       "24   MCP2511000D          15000847  Montgomery County Police   \n",
       "28   MCP2726001L          16059838  Montgomery County Police   \n",
       "31   MCP2450000S          16043946  Montgomery County Police   \n",
       "\n",
       "         ACRS Report Type Crash Date/Time        Route Type  \\\n",
       "10  Property Damage Crash    10/6/15 8:59            County   \n",
       "18           Injury Crash     1/3/17 7:32  Maryland (State)   \n",
       "24           Injury Crash     1/6/15 7:46            County   \n",
       "28           Injury Crash   11/21/16 9:01  Maryland (State)   \n",
       "31           Injury Crash    8/29/16 9:30  Maryland (State)   \n",
       "\n",
       "                 Road Name Cross-Street Type  \\\n",
       "10   PINEY MEETINGHOUSE RD            County   \n",
       "18              CLOPPER RD            County   \n",
       "24  MONTGOMERY VILLAGE AVE            County   \n",
       "28                FALLS RD              Ramp   \n",
       "31       NEW HAMPSHIRE AVE            County   \n",
       "\n",
       "                           Cross-Street Name Off-Road Description  ...  \\\n",
       "10                                   GLEN RD                  NaN  ...   \n",
       "18                               CINNAMON DR                  NaN  ...   \n",
       "24                            MEADOWCROFT LA                  NaN  ...   \n",
       "28  RAMP 5 FR RAMP 8 (FR IS270) TO MD 189 EB                  NaN  ...   \n",
       "31                            NORTHAMPTON DR                  NaN  ...   \n",
       "\n",
       "                Junction      Intersection Type Road Alignment Road Condition  \\\n",
       "10          INTERSECTION  FOUR-WAY INTERSECTION       STRAIGHT     NO DEFECTS   \n",
       "18  INTERSECTION RELATED         T-INTERSECTION       STRAIGHT     NO DEFECTS   \n",
       "24      NON INTERSECTION                    NaN       STRAIGHT     NO DEFECTS   \n",
       "28   INTERCHANGE RELATED                    NaN    CURVE RIGHT     NO DEFECTS   \n",
       "31  INTERSECTION RELATED         T-INTERSECTION       STRAIGHT     NO DEFECTS   \n",
       "\n",
       "                                Road Division   Latitude  Longitude  \\\n",
       "10                       TWO-WAY, NOT DIVIDED  39.048458 -77.233057   \n",
       "18                       TWO-WAY, NOT DIVIDED  39.156108 -77.264519   \n",
       "24                         ONE-WAY TRAFFICWAY  39.184525 -77.198883   \n",
       "28  TWO-WAY, DIVIDED, POSITIVE MEDIAN BARRIER  39.074543 -77.163878   \n",
       "31                                      OTHER  39.006182 -76.980595   \n",
       "\n",
       "                       Location                date hour  \n",
       "10  (39.04845833, -77.23305667) 2015-10-06 08:59:00    8  \n",
       "18  (39.15610804, -77.26451889) 2017-01-03 07:32:00    7  \n",
       "24    (39.184525, -77.19888333) 2015-01-06 07:46:00    7  \n",
       "28  (39.07454333, -77.16387833) 2016-11-21 09:01:00    9  \n",
       "31    (39.00618167, -76.980595) 2016-08-29 09:30:00    9  \n",
       "\n",
       "[5 rows x 33 columns]"
      ]
     },
     "execution_count": 37,
     "metadata": {},
     "output_type": "execute_result"
    }
   ],
   "source": [
    "#Rush Hour dataframe\n",
    "dfRush = df2.loc[(df2['hour'] == 7) | (df2['hour'] == 8) | (df2['hour'] == 9)]\n",
    "dfRush.head()"
   ]
  },
  {
   "cell_type": "code",
   "execution_count": 38,
   "metadata": {},
   "outputs": [
    {
     "name": "stderr",
     "output_type": "stream",
     "text": [
      "C:\\Users\\Charlie\\Anaconda3\\lib\\site-packages\\ipykernel_launcher.py:1: SettingWithCopyWarning: \n",
      "A value is trying to be set on a copy of a slice from a DataFrame.\n",
      "Try using .loc[row_indexer,col_indexer] = value instead\n",
      "\n",
      "See the caveats in the documentation: http://pandas.pydata.org/pandas-docs/stable/indexing.html#indexing-view-versus-copy\n",
      "  \"\"\"Entry point for launching an IPython kernel.\n"
     ]
    },
    {
     "data": {
      "text/plain": [
       "count    3167.000000\n",
       "mean        2.366593\n",
       "std         1.477712\n",
       "min         1.000000\n",
       "25%         1.000000\n",
       "50%         2.000000\n",
       "75%         3.000000\n",
       "max        12.000000\n",
       "Name: date, dtype: float64"
      ]
     },
     "execution_count": 38,
     "metadata": {},
     "output_type": "execute_result"
    }
   ],
   "source": [
    "dfRush['date'] = dfRush['date'].apply(lambda x: x.replace(minute=0))\n",
    "dfRush['date'].value_counts().describe()"
   ]
  },
  {
   "cell_type": "code",
   "execution_count": 39,
   "metadata": {},
   "outputs": [
    {
     "data": {
      "text/plain": [
       "count    21503.000000\n",
       "mean         2.063852\n",
       "std          1.310847\n",
       "min          1.000000\n",
       "25%          1.000000\n",
       "50%          2.000000\n",
       "75%          3.000000\n",
       "max         13.000000\n",
       "Name: date, dtype: float64"
      ]
     },
     "execution_count": 39,
     "metadata": {},
     "output_type": "execute_result"
    }
   ],
   "source": [
    "df2['date'] = df2['date'].apply(lambda x: x.replace(minute=0))\n",
    "df2['date'].value_counts().describe()"
   ]
  },
  {
   "cell_type": "code",
   "execution_count": 40,
   "metadata": {},
   "outputs": [],
   "source": [
    "#Looking at night time rush hour now\n",
    "dfRushNight = df2.loc[(df2['hour'] == 16) | (df2['hour'] == 17) | (df2['hour'] == 18)]\n"
   ]
  },
  {
   "cell_type": "code",
   "execution_count": 41,
   "metadata": {},
   "outputs": [
    {
     "data": {
      "text/plain": [
       "count    3651.000000\n",
       "mean        2.629964\n",
       "std         1.585126\n",
       "min         1.000000\n",
       "25%         1.000000\n",
       "50%         2.000000\n",
       "75%         3.000000\n",
       "max        12.000000\n",
       "Name: date, dtype: float64"
      ]
     },
     "execution_count": 41,
     "metadata": {},
     "output_type": "execute_result"
    }
   ],
   "source": [
    "#Higer mean\n",
    "dfRushNight['date'].value_counts().describe()"
   ]
  },
  {
   "cell_type": "code",
   "execution_count": 42,
   "metadata": {},
   "outputs": [],
   "source": [
    "#Creating dataframes to compare crashes during different road\n",
    "#conditions during rush hour\n",
    "dfSlipRN = dfRushNight.loc[(dfRushNight['Surface Condition'] == 'WET') | (dfRushNight['Surface Condition'] == 'ICE') | (dfRushNight['Surface Condition'] == 'SNOW')]\n",
    "dfDryRN = dfRushNight.loc[(dfRushNight['Surface Condition'] == 'DRY')]"
   ]
  },
  {
   "cell_type": "code",
   "execution_count": 43,
   "metadata": {},
   "outputs": [
    {
     "data": {
      "text/plain": [
       "count    713.000000\n",
       "mean       2.301543\n",
       "std        1.637074\n",
       "min        1.000000\n",
       "25%        1.000000\n",
       "50%        2.000000\n",
       "75%        3.000000\n",
       "max       11.000000\n",
       "Name: date, dtype: float64"
      ]
     },
     "execution_count": 43,
     "metadata": {},
     "output_type": "execute_result"
    }
   ],
   "source": [
    "dfSlipRN['date'].value_counts().describe()"
   ]
  },
  {
   "cell_type": "code",
   "execution_count": 44,
   "metadata": {},
   "outputs": [
    {
     "data": {
      "text/plain": [
       "count    2954.000000\n",
       "mean        2.203114\n",
       "std         1.338954\n",
       "min         1.000000\n",
       "25%         1.000000\n",
       "50%         2.000000\n",
       "75%         3.000000\n",
       "max        10.000000\n",
       "Name: date, dtype: float64"
      ]
     },
     "execution_count": 44,
     "metadata": {},
     "output_type": "execute_result"
    }
   ],
   "source": [
    "#Very similar\n",
    "dfDryRN['date'].value_counts().describe()"
   ]
  },
  {
   "cell_type": "code",
   "execution_count": 45,
   "metadata": {},
   "outputs": [],
   "source": [
    "#creating lists of means and counts of crashes at different times\n",
    "#so vizualizations can be created\n",
    "descList = []\n",
    "for i in range(24):\n",
    "    dfI = df2.loc[(df2['hour'] == i)]\n",
    "    descList.append(dfI['date'].value_counts().describe())\n",
    "\n",
    "meanList = []\n",
    "for i in range(len(descList)):\n",
    "    meanList.append(descList[i][1])\n",
    "    \n",
    "    \n",
    "countList = []\n",
    "for i in range(len(descList)):\n",
    "    countList.append(descList[i][0])"
   ]
  },
  {
   "cell_type": "code",
   "execution_count": 46,
   "metadata": {},
   "outputs": [
    {
     "data": {
      "text/plain": [
       "Text(0.5, 1.0, 'Average Number of Crashes based on Time of Day')"
      ]
     },
     "execution_count": 46,
     "metadata": {},
     "output_type": "execute_result"
    },
    {
     "data": {
      "image/png": "[encoded data removed]",
      "text/plain": [
       "<Figure size 432x288 with 1 Axes>"
      ]
     },
     "metadata": {
      "needs_background": "light"
     },
     "output_type": "display_data"
    }
   ],
   "source": [
    "#Chart showimg mean crashes throughout day\n",
    "import matplotlib.pyplot as plt\n",
    "\n",
    "plt.bar(range(len(meanList)), meanList, align='center', alpha=0.5)\n",
    "plt.ylabel('Avg # of Crashes')\n",
    "plt.xlabel('Time of Day')\n",
    "plt.title('Average Number of Crashes based on Time of Day')"
   ]
  },
  {
   "cell_type": "code",
   "execution_count": 47,
   "metadata": {},
   "outputs": [
    {
     "data": {
      "text/plain": [
       "Text(0.5, 1.0, 'Number of Crashes based on Time of Day')"
      ]
     },
     "execution_count": 47,
     "metadata": {},
     "output_type": "execute_result"
    },
    {
     "data": {
      "image/png": "[encoded data removed]",
      "text/plain": [
       "<Figure size 432x288 with 1 Axes>"
      ]
     },
     "metadata": {
      "needs_background": "light"
     },
     "output_type": "display_data"
    }
   ],
   "source": [
    "#Chart showing total crashes at each hour\n",
    "plt.bar(range(len(countList)), countList, align='center', alpha=0.5)\n",
    "plt.ylabel('# of Crashes')\n",
    "plt.xlabel('Time of Day')\n",
    "plt.title('Number of Crashes based on Time of Day')"
   ]
  },
  {
   "cell_type": "code",
   "execution_count": 48,
   "metadata": {},
   "outputs": [
    {
     "name": "stdout",
     "output_type": "stream",
     "text": [
      "Done with EDA\n"
     ]
    }
   ],
   "source": [
    "print('Done with EDA')\n",
    "#Start of primary analysis and predictive modeling."
   ]
  },
  {
   "cell_type": "code",
   "execution_count": 49,
   "metadata": {},
   "outputs": [],
   "source": [
    "#Training and Splitting Data\n",
    "X = dfCW[['Air Temp (℉)', 'Precip (inches)', 'Wind Spd (mph)', 'RH (%)', 'Leaf Wetness (minutes)', 'hours']]\n",
    "Y = dfCW['crashOccur']\n",
    "\n",
    "Xl = dfCW[['Air Temp (℉)']]\n",
    "Yl = dfCW['date']\n",
    "\n",
    "X_train, X_test, y_train, y_test = train_test_split(X, Y, test_size=0.3)\n",
    "kfold = model_selection.KFold(n_splits=10, random_state=7)\n",
    "scoring = 'accuracy'"
   ]
  },
  {
   "cell_type": "code",
   "execution_count": 50,
   "metadata": {},
   "outputs": [
    {
     "name": "stdout",
     "output_type": "stream",
     "text": [
      "Accuracy of Forest: 0.676179604261796\n"
     ]
    },
    {
     "name": "stderr",
     "output_type": "stream",
     "text": [
      "C:\\Users\\Charlie\\Anaconda3\\lib\\site-packages\\sklearn\\ensemble\\forest.py:246: FutureWarning: The default value of n_estimators will change from 10 in version 0.20 to 100 in 0.22.\n",
      "  \"10 in version 0.20 to 100 in 0.22.\", FutureWarning)\n",
      "C:\\Users\\Charlie\\Anaconda3\\lib\\site-packages\\sklearn\\ensemble\\forest.py:246: FutureWarning: The default value of n_estimators will change from 10 in version 0.20 to 100 in 0.22.\n",
      "  \"10 in version 0.20 to 100 in 0.22.\", FutureWarning)\n",
      "C:\\Users\\Charlie\\Anaconda3\\lib\\site-packages\\sklearn\\ensemble\\forest.py:246: FutureWarning: The default value of n_estimators will change from 10 in version 0.20 to 100 in 0.22.\n",
      "  \"10 in version 0.20 to 100 in 0.22.\", FutureWarning)\n",
      "C:\\Users\\Charlie\\Anaconda3\\lib\\site-packages\\sklearn\\ensemble\\forest.py:246: FutureWarning: The default value of n_estimators will change from 10 in version 0.20 to 100 in 0.22.\n",
      "  \"10 in version 0.20 to 100 in 0.22.\", FutureWarning)\n",
      "C:\\Users\\Charlie\\Anaconda3\\lib\\site-packages\\sklearn\\ensemble\\forest.py:246: FutureWarning: The default value of n_estimators will change from 10 in version 0.20 to 100 in 0.22.\n",
      "  \"10 in version 0.20 to 100 in 0.22.\", FutureWarning)\n",
      "C:\\Users\\Charlie\\Anaconda3\\lib\\site-packages\\sklearn\\ensemble\\forest.py:246: FutureWarning: The default value of n_estimators will change from 10 in version 0.20 to 100 in 0.22.\n",
      "  \"10 in version 0.20 to 100 in 0.22.\", FutureWarning)\n",
      "C:\\Users\\Charlie\\Anaconda3\\lib\\site-packages\\sklearn\\ensemble\\forest.py:246: FutureWarning: The default value of n_estimators will change from 10 in version 0.20 to 100 in 0.22.\n",
      "  \"10 in version 0.20 to 100 in 0.22.\", FutureWarning)\n",
      "C:\\Users\\Charlie\\Anaconda3\\lib\\site-packages\\sklearn\\ensemble\\forest.py:246: FutureWarning: The default value of n_estimators will change from 10 in version 0.20 to 100 in 0.22.\n",
      "  \"10 in version 0.20 to 100 in 0.22.\", FutureWarning)\n",
      "C:\\Users\\Charlie\\Anaconda3\\lib\\site-packages\\sklearn\\ensemble\\forest.py:246: FutureWarning: The default value of n_estimators will change from 10 in version 0.20 to 100 in 0.22.\n",
      "  \"10 in version 0.20 to 100 in 0.22.\", FutureWarning)\n",
      "C:\\Users\\Charlie\\Anaconda3\\lib\\site-packages\\sklearn\\ensemble\\forest.py:246: FutureWarning: The default value of n_estimators will change from 10 in version 0.20 to 100 in 0.22.\n",
      "  \"10 in version 0.20 to 100 in 0.22.\", FutureWarning)\n"
     ]
    },
    {
     "name": "stdout",
     "output_type": "stream",
     "text": [
      "10-fold cross validation average accuracy: 0.687\n",
      "              precision    recall  f1-score   support\n",
      "\n",
      "           0       0.54      0.51      0.53       929\n",
      "           1       0.74      0.77      0.75      1699\n",
      "\n",
      "   micro avg       0.68      0.68      0.68      2628\n",
      "   macro avg       0.64      0.64      0.64      2628\n",
      "weighted avg       0.67      0.68      0.67      2628\n",
      "\n",
      "[[ 477  452]\n",
      " [ 399 1300]]\n",
      "                        importance\n",
      "Air Temp (℉)              0.291574\n",
      "hours                     0.256899\n",
      "Wind Spd (mph)            0.208303\n",
      "RH (%)                    0.202675\n",
      "Leaf Wetness (minutes)    0.025634\n",
      "Precip (inches)           0.014915\n"
     ]
    },
    {
     "name": "stderr",
     "output_type": "stream",
     "text": [
      "C:\\Users\\Charlie\\Anaconda3\\lib\\site-packages\\sklearn\\ensemble\\forest.py:246: FutureWarning: The default value of n_estimators will change from 10 in version 0.20 to 100 in 0.22.\n",
      "  \"10 in version 0.20 to 100 in 0.22.\", FutureWarning)\n"
     ]
    }
   ],
   "source": [
    "#Random Forest Classifier \n",
    "clf=RandomForestClassifier()\n",
    "clf.fit(X_train,y_train)\n",
    "y_pred=clf.predict(X_test)\n",
    "print(\"Accuracy of Forest:\",metrics.accuracy_score(y_test, y_pred))\n",
    "feature_importances = pd.DataFrame(clf.feature_importances_, index = X_train.columns, columns=['importance']).sort_values('importance', ascending=False)\n",
    "cvForest = model_selection.cross_val_score(RandomForestClassifier(), X_train, y_train, cv=kfold, scoring=scoring)\n",
    "print(\"10-fold cross validation average accuracy: %.3f\" % (cvForest.mean()))\n",
    "print(classification_report(y_test, y_pred))\n",
    "\n",
    "print(confusion_matrix(y_test, y_pred))\n",
    "print(feature_importances)"
   ]
  },
  {
   "cell_type": "code",
   "execution_count": 51,
   "metadata": {},
   "outputs": [
    {
     "name": "stderr",
     "output_type": "stream",
     "text": [
      "C:\\Users\\Charlie\\Anaconda3\\lib\\site-packages\\sklearn\\linear_model\\logistic.py:433: FutureWarning: Default solver will be changed to 'lbfgs' in 0.22. Specify a solver to silence this warning.\n",
      "  FutureWarning)\n",
      "C:\\Users\\Charlie\\Anaconda3\\lib\\site-packages\\sklearn\\linear_model\\logistic.py:433: FutureWarning: Default solver will be changed to 'lbfgs' in 0.22. Specify a solver to silence this warning.\n",
      "  FutureWarning)\n",
      "C:\\Users\\Charlie\\Anaconda3\\lib\\site-packages\\sklearn\\linear_model\\logistic.py:433: FutureWarning: Default solver will be changed to 'lbfgs' in 0.22. Specify a solver to silence this warning.\n",
      "  FutureWarning)\n",
      "C:\\Users\\Charlie\\Anaconda3\\lib\\site-packages\\sklearn\\linear_model\\logistic.py:433: FutureWarning: Default solver will be changed to 'lbfgs' in 0.22. Specify a solver to silence this warning.\n",
      "  FutureWarning)\n",
      "C:\\Users\\Charlie\\Anaconda3\\lib\\site-packages\\sklearn\\linear_model\\logistic.py:433: FutureWarning: Default solver will be changed to 'lbfgs' in 0.22. Specify a solver to silence this warning.\n",
      "  FutureWarning)\n",
      "C:\\Users\\Charlie\\Anaconda3\\lib\\site-packages\\sklearn\\linear_model\\logistic.py:433: FutureWarning: Default solver will be changed to 'lbfgs' in 0.22. Specify a solver to silence this warning.\n",
      "  FutureWarning)\n",
      "C:\\Users\\Charlie\\Anaconda3\\lib\\site-packages\\sklearn\\linear_model\\logistic.py:433: FutureWarning: Default solver will be changed to 'lbfgs' in 0.22. Specify a solver to silence this warning.\n",
      "  FutureWarning)\n",
      "C:\\Users\\Charlie\\Anaconda3\\lib\\site-packages\\sklearn\\linear_model\\logistic.py:433: FutureWarning: Default solver will be changed to 'lbfgs' in 0.22. Specify a solver to silence this warning.\n",
      "  FutureWarning)\n",
      "C:\\Users\\Charlie\\Anaconda3\\lib\\site-packages\\sklearn\\linear_model\\logistic.py:433: FutureWarning: Default solver will be changed to 'lbfgs' in 0.22. Specify a solver to silence this warning.\n",
      "  FutureWarning)\n",
      "C:\\Users\\Charlie\\Anaconda3\\lib\\site-packages\\sklearn\\linear_model\\logistic.py:433: FutureWarning: Default solver will be changed to 'lbfgs' in 0.22. Specify a solver to silence this warning.\n",
      "  FutureWarning)\n",
      "C:\\Users\\Charlie\\Anaconda3\\lib\\site-packages\\sklearn\\linear_model\\logistic.py:433: FutureWarning: Default solver will be changed to 'lbfgs' in 0.22. Specify a solver to silence this warning.\n",
      "  FutureWarning)\n"
     ]
    },
    {
     "name": "stdout",
     "output_type": "stream",
     "text": [
      "Optimization terminated successfully.\n",
      "         Current function value: 0.612314\n",
      "         Iterations 6\n",
      "                           Logit Regression Results                           \n",
      "==============================================================================\n",
      "Dep. Variable:             crashOccur   No. Observations:                 8760\n",
      "Model:                          Logit   Df Residuals:                     8754\n",
      "Method:                           MLE   Df Model:                            5\n",
      "Date:                Mon, 24 Jun 2019   Pseudo R-squ.:                 0.05406\n",
      "Time:                        23:56:33   Log-Likelihood:                -5363.9\n",
      "converged:                       True   LL-Null:                       -5670.4\n",
      "                                        LLR p-value:                3.074e-130\n",
      "==========================================================================================\n",
      "                             coef    std err          z      P>|z|      [0.025      0.975]\n",
      "------------------------------------------------------------------------------------------\n",
      "Air Temp (℉)               0.0082      0.001      6.900      0.000       0.006       0.010\n",
      "Precip (inches)            3.4572      1.320      2.619      0.009       0.870       6.044\n",
      "Wind Spd (mph)             0.0398      0.008      4.724      0.000       0.023       0.056\n",
      "RH (%)                    -0.0083      0.001    -10.469      0.000      -0.010      -0.007\n",
      "Leaf Wetness (minutes)     0.0049      0.001      3.606      0.000       0.002       0.008\n",
      "hours                      0.0551      0.003     16.477      0.000       0.049       0.062\n",
      "==========================================================================================\n",
      "Accuracy of logistic regression classifier on test set: 0.68\n",
      "10-fold cross validation average accuracy: 0.686\n",
      "              precision    recall  f1-score   support\n",
      "\n",
      "           0       0.59      0.31      0.41       929\n",
      "           1       0.70      0.88      0.78      1699\n",
      "\n",
      "   micro avg       0.68      0.68      0.68      2628\n",
      "   macro avg       0.65      0.60      0.60      2628\n",
      "weighted avg       0.66      0.68      0.65      2628\n",
      "\n",
      "[[ 291  638]\n",
      " [ 199 1500]]\n"
     ]
    }
   ],
   "source": [
    "#logistic regression\n",
    "logit_model=sm.Logit(Y,X)\n",
    "result=logit_model.fit()\n",
    "print(result.summary())\n",
    "\n",
    "\n",
    "logreg = LogisticRegression()\n",
    "logreg.fit(X_train, y_train)\n",
    "y_pred = logreg.predict(X_test)\n",
    "print('Accuracy of logistic regression classifier on test set: {:.2f}'.format(logreg.score(X_test, y_test)))\n",
    "kfold = model_selection.KFold(n_splits=10, random_state=7)\n",
    "modelCV = LogisticRegression()\n",
    "scoring = 'accuracy'\n",
    "results = model_selection.cross_val_score(modelCV, X_train, y_train, cv=kfold, scoring=scoring)\n",
    "print(\"10-fold cross validation average accuracy: %.3f\" % (results.mean()))\n",
    "\n",
    "print(classification_report(y_test, y_pred))\n",
    "print(confusion_matrix(y_test, y_pred))"
   ]
  },
  {
   "cell_type": "code",
   "execution_count": 52,
   "metadata": {},
   "outputs": [
    {
     "name": "stdout",
     "output_type": "stream",
     "text": [
      "Accuracy of BernoulliNB: 0.6582952815829528\n"
     ]
    },
    {
     "name": "stderr",
     "output_type": "stream",
     "text": [
      "C:\\Users\\Charlie\\Anaconda3\\lib\\site-packages\\sklearn\\linear_model\\logistic.py:433: FutureWarning: Default solver will be changed to 'lbfgs' in 0.22. Specify a solver to silence this warning.\n",
      "  FutureWarning)\n",
      "C:\\Users\\Charlie\\Anaconda3\\lib\\site-packages\\sklearn\\linear_model\\logistic.py:433: FutureWarning: Default solver will be changed to 'lbfgs' in 0.22. Specify a solver to silence this warning.\n",
      "  FutureWarning)\n",
      "C:\\Users\\Charlie\\Anaconda3\\lib\\site-packages\\sklearn\\linear_model\\logistic.py:433: FutureWarning: Default solver will be changed to 'lbfgs' in 0.22. Specify a solver to silence this warning.\n",
      "  FutureWarning)\n",
      "C:\\Users\\Charlie\\Anaconda3\\lib\\site-packages\\sklearn\\linear_model\\logistic.py:433: FutureWarning: Default solver will be changed to 'lbfgs' in 0.22. Specify a solver to silence this warning.\n",
      "  FutureWarning)\n",
      "C:\\Users\\Charlie\\Anaconda3\\lib\\site-packages\\sklearn\\linear_model\\logistic.py:433: FutureWarning: Default solver will be changed to 'lbfgs' in 0.22. Specify a solver to silence this warning.\n",
      "  FutureWarning)\n"
     ]
    },
    {
     "name": "stdout",
     "output_type": "stream",
     "text": [
      "10-fold cross validation average accuracy: 0.686\n",
      "              precision    recall  f1-score   support\n",
      "\n",
      "           0       0.56      0.16      0.25       929\n",
      "           1       0.67      0.93      0.78      1699\n",
      "\n",
      "   micro avg       0.66      0.66      0.66      2628\n",
      "   macro avg       0.61      0.55      0.52      2628\n",
      "weighted avg       0.63      0.66      0.59      2628\n",
      "\n",
      "[[ 152  777]\n",
      " [ 121 1578]]\n"
     ]
    },
    {
     "name": "stderr",
     "output_type": "stream",
     "text": [
      "C:\\Users\\Charlie\\Anaconda3\\lib\\site-packages\\sklearn\\linear_model\\logistic.py:433: FutureWarning: Default solver will be changed to 'lbfgs' in 0.22. Specify a solver to silence this warning.\n",
      "  FutureWarning)\n",
      "C:\\Users\\Charlie\\Anaconda3\\lib\\site-packages\\sklearn\\linear_model\\logistic.py:433: FutureWarning: Default solver will be changed to 'lbfgs' in 0.22. Specify a solver to silence this warning.\n",
      "  FutureWarning)\n",
      "C:\\Users\\Charlie\\Anaconda3\\lib\\site-packages\\sklearn\\linear_model\\logistic.py:433: FutureWarning: Default solver will be changed to 'lbfgs' in 0.22. Specify a solver to silence this warning.\n",
      "  FutureWarning)\n",
      "C:\\Users\\Charlie\\Anaconda3\\lib\\site-packages\\sklearn\\linear_model\\logistic.py:433: FutureWarning: Default solver will be changed to 'lbfgs' in 0.22. Specify a solver to silence this warning.\n",
      "  FutureWarning)\n",
      "C:\\Users\\Charlie\\Anaconda3\\lib\\site-packages\\sklearn\\linear_model\\logistic.py:433: FutureWarning: Default solver will be changed to 'lbfgs' in 0.22. Specify a solver to silence this warning.\n",
      "  FutureWarning)\n"
     ]
    }
   ],
   "source": [
    "#BernoulliNB\n",
    "clf=BernoulliNB()\n",
    "clf.fit(X_train,y_train)\n",
    "y_pred=clf.predict(X_test)\n",
    "print(\"Accuracy of BernoulliNB:\",metrics.accuracy_score(y_test, y_pred))\n",
    "cvB = model_selection.cross_val_score(modelCV, X_train, y_train, cv=kfold, scoring=scoring)\n",
    "print(\"10-fold cross validation average accuracy: %.3f\" % (cvB.mean()))\n",
    "print(classification_report(y_test, y_pred))\n",
    "print(confusion_matrix(y_test, y_pred))"
   ]
  },
  {
   "cell_type": "code",
   "execution_count": 53,
   "metadata": {},
   "outputs": [
    {
     "name": "stdout",
     "output_type": "stream",
     "text": [
      "Accuracy of GaussianNB: 0.6095890410958904\n",
      "10-fold cross validation average accuracy: 0.611\n",
      "              precision    recall  f1-score   support\n",
      "\n",
      "           0       0.47      0.71      0.56       929\n",
      "           1       0.78      0.55      0.65      1699\n",
      "\n",
      "   micro avg       0.61      0.61      0.61      2628\n",
      "   macro avg       0.62      0.63      0.61      2628\n",
      "weighted avg       0.67      0.61      0.62      2628\n",
      "\n",
      "[[663 266]\n",
      " [760 939]]\n"
     ]
    }
   ],
   "source": [
    "#GaussianNB\n",
    "clf2=GaussianNB()\n",
    "clf2.fit(X_train,y_train)\n",
    "y_pred=clf2.predict(X_test)\n",
    "print(\"Accuracy of GaussianNB:\",metrics.accuracy_score(y_test, y_pred))\n",
    "cvG = model_selection.cross_val_score(GaussianNB(), X_train, y_train, cv=kfold, scoring=scoring)\n",
    "print(\"10-fold cross validation average accuracy: %.3f\" % (cvG.mean()))\n",
    "print(classification_report(y_test, y_pred))\n",
    "print(confusion_matrix(y_test, y_pred))"
   ]
  },
  {
   "cell_type": "code",
   "execution_count": 54,
   "metadata": {},
   "outputs": [
    {
     "name": "stderr",
     "output_type": "stream",
     "text": [
      "C:\\Users\\Charlie\\Anaconda3\\lib\\site-packages\\sklearn\\preprocessing\\data.py:645: DataConversionWarning: Data with input dtype int64, float64 were all converted to float64 by StandardScaler.\n",
      "  return self.partial_fit(X, y)\n",
      "C:\\Users\\Charlie\\Anaconda3\\lib\\site-packages\\ipykernel_launcher.py:4: DataConversionWarning: Data with input dtype int64, float64 were all converted to float64 by StandardScaler.\n",
      "  after removing the cwd from sys.path.\n",
      "C:\\Users\\Charlie\\Anaconda3\\lib\\site-packages\\ipykernel_launcher.py:5: DataConversionWarning: Data with input dtype int64, float64 were all converted to float64 by StandardScaler.\n",
      "  \"\"\"\n",
      "C:\\Users\\Charlie\\Anaconda3\\lib\\site-packages\\sklearn\\neural_network\\multilayer_perceptron.py:562: ConvergenceWarning: Stochastic Optimizer: Maximum iterations (200) reached and the optimization hasn't converged yet.\n",
      "  % self.max_iter, ConvergenceWarning)\n"
     ]
    },
    {
     "name": "stdout",
     "output_type": "stream",
     "text": [
      "Accuracy of MLPClassifier training data: 0.7374429223744292\n",
      "Accuracy of MLPClassifier test data: 0.7149923896499238\n",
      "Train Report\n",
      "              precision    recall  f1-score   support\n",
      "\n",
      "           0       0.64      0.55      0.59      2135\n",
      "           1       0.78      0.84      0.81      3997\n",
      "\n",
      "   micro avg       0.74      0.74      0.74      6132\n",
      "   macro avg       0.71      0.69      0.70      6132\n",
      "weighted avg       0.73      0.74      0.73      6132\n",
      "\n",
      "Test Report\n",
      "              precision    recall  f1-score   support\n",
      "\n",
      "           0       0.61      0.52      0.56       929\n",
      "           1       0.76      0.82      0.79      1699\n",
      "\n",
      "   micro avg       0.71      0.71      0.71      2628\n",
      "   macro avg       0.69      0.67      0.68      2628\n",
      "weighted avg       0.71      0.71      0.71      2628\n",
      "\n",
      "[[ 483  446]\n",
      " [ 303 1396]]\n"
     ]
    },
    {
     "name": "stderr",
     "output_type": "stream",
     "text": [
      "C:\\Users\\Charlie\\Anaconda3\\lib\\site-packages\\sklearn\\neural_network\\multilayer_perceptron.py:562: ConvergenceWarning: Stochastic Optimizer: Maximum iterations (200) reached and the optimization hasn't converged yet.\n",
      "  % self.max_iter, ConvergenceWarning)\n",
      "C:\\Users\\Charlie\\Anaconda3\\lib\\site-packages\\sklearn\\neural_network\\multilayer_perceptron.py:562: ConvergenceWarning: Stochastic Optimizer: Maximum iterations (200) reached and the optimization hasn't converged yet.\n",
      "  % self.max_iter, ConvergenceWarning)\n",
      "C:\\Users\\Charlie\\Anaconda3\\lib\\site-packages\\sklearn\\neural_network\\multilayer_perceptron.py:562: ConvergenceWarning: Stochastic Optimizer: Maximum iterations (200) reached and the optimization hasn't converged yet.\n",
      "  % self.max_iter, ConvergenceWarning)\n",
      "C:\\Users\\Charlie\\Anaconda3\\lib\\site-packages\\sklearn\\neural_network\\multilayer_perceptron.py:562: ConvergenceWarning: Stochastic Optimizer: Maximum iterations (200) reached and the optimization hasn't converged yet.\n",
      "  % self.max_iter, ConvergenceWarning)\n",
      "C:\\Users\\Charlie\\Anaconda3\\lib\\site-packages\\sklearn\\neural_network\\multilayer_perceptron.py:562: ConvergenceWarning: Stochastic Optimizer: Maximum iterations (200) reached and the optimization hasn't converged yet.\n",
      "  % self.max_iter, ConvergenceWarning)\n",
      "C:\\Users\\Charlie\\Anaconda3\\lib\\site-packages\\sklearn\\neural_network\\multilayer_perceptron.py:562: ConvergenceWarning: Stochastic Optimizer: Maximum iterations (200) reached and the optimization hasn't converged yet.\n",
      "  % self.max_iter, ConvergenceWarning)\n"
     ]
    },
    {
     "name": "stdout",
     "output_type": "stream",
     "text": [
      "10-fold cross validation average accuracy: 0.725\n"
     ]
    },
    {
     "name": "stderr",
     "output_type": "stream",
     "text": [
      "C:\\Users\\Charlie\\Anaconda3\\lib\\site-packages\\sklearn\\neural_network\\multilayer_perceptron.py:562: ConvergenceWarning: Stochastic Optimizer: Maximum iterations (200) reached and the optimization hasn't converged yet.\n",
      "  % self.max_iter, ConvergenceWarning)\n"
     ]
    }
   ],
   "source": [
    "#MLP Classifier\n",
    "scaler = StandardScaler()\n",
    "scaler.fit(X_train)\n",
    "X_train = scaler.transform(X_train)\n",
    "X_test = scaler.transform(X_test)\n",
    "\n",
    "mlp = MLPClassifier()\n",
    "mlp.fit(X_train,y_train)\n",
    "\n",
    "predictions = mlp.predict(X_test)\n",
    "predictTrain = mlp.predict(X_train)\n",
    "probs =  mlp.predict_proba(X_test)\n",
    "\n",
    "\n",
    "print(\"Accuracy of MLPClassifier training data:\",metrics.accuracy_score(y_train, predictTrain))\n",
    "print(\"Accuracy of MLPClassifier test data:\",metrics.accuracy_score(y_test, predictions))\n",
    "\n",
    "print('Train Report')\n",
    "print(classification_report(y_train, predictTrain))\n",
    "\n",
    "print('Test Report')\n",
    "print(classification_report(y_test,predictions))\n",
    "\n",
    "cm = confusion_matrix(y_test, predictions)\n",
    "print(cm)\n",
    "cvMLP = model_selection.cross_val_score(MLPClassifier(), X_train, y_train, cv=kfold, scoring=scoring)\n",
    "print(\"10-fold cross validation average accuracy: %.3f\" % (cvMLP.mean()))"
   ]
  },
  {
   "cell_type": "code",
   "execution_count": 55,
   "metadata": {},
   "outputs": [
    {
     "data": {
      "text/plain": [
       "\"#MLPClassifier Grid Search - takes long time to run\\nparams = [ {'hidden_layer_sizes': [(100,), (50,), (25,), (200,)], 'activation': ['identity', 'logistic', 'tanh', 'relu'], 'alpha': [0.0001,0.001, 0.1, 1, 10, 100, 1000, 10000, 100000, 1000000]} ]\\n\\ngrid = GridSearchCV(mlp, params, cv=4)            # cv: number of folds\\ngrid.fit(X_train, y_train)\\ngrid.best_estimator_\\nscores = grid.cv_results_\\nscores['mean_test_score']\""
      ]
     },
     "execution_count": 55,
     "metadata": {},
     "output_type": "execute_result"
    }
   ],
   "source": [
    "'''#MLPClassifier Grid Search - takes long time to run\n",
    "params = [ {'hidden_layer_sizes': [(100,), (50,), (25,), (200,)], 'activation': ['identity', 'logistic', 'tanh', 'relu'], 'alpha': [0.0001,0.001, 0.1, 1, 10, 100, 1000, 10000, 100000, 1000000]} ]\n",
    "\n",
    "grid = GridSearchCV(mlp, params, cv=4)            # cv: number of folds\n",
    "grid.fit(X_train, y_train)\n",
    "grid.best_estimator_\n",
    "scores = grid.cv_results_\n",
    "scores['mean_test_score']''' \n"
   ]
  },
  {
   "cell_type": "code",
   "execution_count": 56,
   "metadata": {},
   "outputs": [],
   "source": [
    "#print(grid.best_estimator_)"
   ]
  }
 ],
 "metadata": {
  "kernelspec": {
   "display_name": "Python 3",
   "language": "python",
   "name": "python3"
  },
  "language_info": {
   "codemirror_mode": {
    "name": "ipython",
    "version": 3
   },
   "file_extension": ".py",
   "mimetype": "text/x-python",
   "name": "python",
   "nbconvert_exporter": "python",
   "pygments_lexer": "ipython3",
   "version": "3.7.3"
  }
 },
 "nbformat": 4,
 "nbformat_minor": 2
}
